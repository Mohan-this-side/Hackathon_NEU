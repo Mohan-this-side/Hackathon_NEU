{
 "cells": [
  {
   "cell_type": "code",
   "execution_count": 1,
   "metadata": {},
   "outputs": [],
   "source": [
    "import pandas as pd\n",
    "import seaborn as sns\n",
    "\n",
    "train = pd.read_csv(\"/Users/mohan/NEU/Projects_and_Hackathon/stay-or-stray/train.csv\")\n",
    "test = pd.read_csv(\"/Users/mohan/NEU/Projects_and_Hackathon/stay-or-stray/test.csv\")\n",
    "\n",
    "log_train = pd.read_csv(\"/Users/mohan/NEU/Projects_and_Hackathon/stay-or-stray/log_train.csv\")\n",
    "log_test = pd.read_csv(\"/Users/mohan/NEU/Projects_and_Hackathon/stay-or-stray/log_test.csv\")"
   ]
  },
  {
   "cell_type": "code",
   "execution_count": 2,
   "metadata": {},
   "outputs": [],
   "source": [
    "log_train_df= log_train\n",
    "train_df = train"
   ]
  },
  {
   "cell_type": "code",
   "execution_count": 3,
   "metadata": {},
   "outputs": [
    {
     "name": "stderr",
     "output_type": "stream",
     "text": [
      "/Library/Frameworks/Python.framework/Versions/3.10/lib/python3.10/site-packages/pandas/core/reshape/merge.py:1203: RuntimeWarning: invalid value encountered in cast\n",
      "  if not (lk == lk.astype(rk.dtype))[~np.isnan(lk)].all():\n"
     ]
    }
   ],
   "source": [
    "log_train_df['time'] = pd.to_datetime(log_train_df['time'])\n",
    "\n",
    "# Extract features\n",
    "log_train_df['hour'] = log_train_df['time'].dt.hour\n",
    "log_train_df['day_of_week'] = log_train_df['time'].dt.dayofweek\n",
    "log_train_df['day'] = log_train_df['time'].dt.day\n",
    "\n",
    "# Count of events per ID\n",
    "event_count = log_train_df.groupby('ID')['event'].count().reset_index(name='event_count')\n",
    "\n",
    "# Count of unique sources per ID\n",
    "unique_sources = log_train_df.groupby('ID')['source'].nunique().reset_index(name='unique_sources')\n",
    "\n",
    "# Merge these features back to the original dataset on ID\n",
    "train_df_enriched = train_df.merge(event_count, on='ID', how='left')\n",
    "train_df_enriched = train_df_enriched.merge(unique_sources, on='ID', how='left')\n",
    "\n",
    "\n",
    "# Time difference features (e.g., average time between events for each ID)\n",
    "log_train_df['time_diff'] = log_train_df.sort_values(['ID', 'time']).groupby('ID')['time'].diff().dt.total_seconds()\n",
    "avg_time_diff = log_train_df.groupby('ID')['time_diff'].mean().reset_index(name='avg_time_diff')\n",
    "\n",
    "# Fill missing values for IDs that did not have event data\n",
    "\n",
    "\n",
    "train_df_enriched = train_df_enriched.merge(avg_time_diff, on='ID', how='left')\n",
    "\n",
    "# Fill missing values for IDs that did not have event data\n",
    "train_df_enriched.fillna({'event_count': 0, 'unique_sources': 0, \"avg_time_diff\":0}, inplace=True)\n"
   ]
  },
  {
   "cell_type": "code",
   "execution_count": 4,
   "metadata": {},
   "outputs": [],
   "source": [
    "import pandas as pd\n",
    "import numpy as np\n",
    "import lightgbm as lgb\n",
    "from sklearn.model_selection import train_test_split\n",
    "from sklearn.impute import SimpleImputer\n",
    "from sklearn.metrics import accuracy_score, confusion_matrix, classification_report\n",
    "from imblearn.over_sampling import ADASYN\n",
    "\n",
    "# Assuming 'train_df_enriched' is your dataset\n",
    "train_clean = train_df_enriched.dropna(subset=['label'])\n",
    "\n",
    "X = train_clean.drop(['label', 'ID'], axis=1)\n",
    "y = train_clean['label']\n",
    "\n",
    "# Initialize the SimpleImputer with 'median' strategy\n",
    "imputer = SimpleImputer(strategy='median')\n",
    "X_imputed = imputer.fit_transform(X)\n",
    "X_imputed_df = pd.DataFrame(X_imputed, columns=X.columns)\n",
    "\n",
    "# Resampling\n",
    "X_resampled, y_resampled = ADASYN().fit_resample(X_imputed_df, y)"
   ]
  },
  {
   "cell_type": "code",
   "execution_count": 7,
   "metadata": {},
   "outputs": [
    {
     "name": "stderr",
     "output_type": "stream",
     "text": [
      "[I 2024-03-29 14:44:23,237] A new study created in memory with name: no-name-bb9086e7-bed0-48d2-a2ef-6f40763da230\n"
     ]
    },
    {
     "name": "stdout",
     "output_type": "stream",
     "text": [
      "[100]\tvalid_0's binary_logloss: 0.509639\n",
      "[200]\tvalid_0's binary_logloss: 0.444115\n",
      "[300]\tvalid_0's binary_logloss: 0.386128\n",
      "[400]\tvalid_0's binary_logloss: 0.342502\n",
      "[500]\tvalid_0's binary_logloss: 0.30764\n",
      "[600]\tvalid_0's binary_logloss: 0.295469\n",
      "[700]\tvalid_0's binary_logloss: 0.27751\n",
      "[800]\tvalid_0's binary_logloss: 0.267083\n",
      "[900]\tvalid_0's binary_logloss: 0.25462\n",
      "[1000]\tvalid_0's binary_logloss: 0.247709\n",
      "[1100]\tvalid_0's binary_logloss: 0.240592\n",
      "[1200]\tvalid_0's binary_logloss: 0.237612\n",
      "[1300]\tvalid_0's binary_logloss: 0.233295\n",
      "[1400]\tvalid_0's binary_logloss: 0.227856\n",
      "[1500]\tvalid_0's binary_logloss: 0.226343\n",
      "[1600]\tvalid_0's binary_logloss: 0.222975\n",
      "[1700]\tvalid_0's binary_logloss: 0.220052\n",
      "[1800]\tvalid_0's binary_logloss: 0.218031\n",
      "[1900]\tvalid_0's binary_logloss: 0.216299\n",
      "[2000]\tvalid_0's binary_logloss: 0.215166\n"
     ]
    },
    {
     "name": "stderr",
     "output_type": "stream",
     "text": [
      "[I 2024-03-29 14:56:41,381] Trial 0 finished with value: 0.21516608769567755 and parameters: {'num_leaves': 49}. Best is trial 0 with value: 0.21516608769567755.\n",
      "/Library/Frameworks/Python.framework/Versions/3.10/lib/python3.10/site-packages/lightgbm/callback.py:325: UserWarning: Early stopping is not available in dart mode\n",
      "  _log_warning('Early stopping is not available in dart mode')\n"
     ]
    },
    {
     "name": "stdout",
     "output_type": "stream",
     "text": [
      "[100]\tvalid_0's binary_logloss: 0.492814\n",
      "[200]\tvalid_0's binary_logloss: 0.422461\n",
      "[300]\tvalid_0's binary_logloss: 0.362375\n",
      "[400]\tvalid_0's binary_logloss: 0.320208\n",
      "[500]\tvalid_0's binary_logloss: 0.286437\n",
      "[600]\tvalid_0's binary_logloss: 0.276333\n",
      "[700]\tvalid_0's binary_logloss: 0.25983\n",
      "[800]\tvalid_0's binary_logloss: 0.250946\n",
      "[900]\tvalid_0's binary_logloss: 0.240397\n",
      "[1000]\tvalid_0's binary_logloss: 0.234968\n",
      "[1100]\tvalid_0's binary_logloss: 0.229205\n",
      "[1200]\tvalid_0's binary_logloss: 0.226857\n",
      "[1300]\tvalid_0's binary_logloss: 0.223622\n",
      "[1400]\tvalid_0's binary_logloss: 0.219382\n",
      "[1500]\tvalid_0's binary_logloss: 0.218377\n",
      "[1600]\tvalid_0's binary_logloss: 0.215594\n",
      "[1700]\tvalid_0's binary_logloss: 0.213287\n",
      "[1800]\tvalid_0's binary_logloss: 0.211861\n",
      "[1900]\tvalid_0's binary_logloss: 0.210516\n",
      "[2000]\tvalid_0's binary_logloss: 0.209722\n"
     ]
    },
    {
     "name": "stderr",
     "output_type": "stream",
     "text": [
      "[I 2024-03-29 15:18:24,573] Trial 1 finished with value: 0.20972225092827104 and parameters: {'num_leaves': 188}. Best is trial 1 with value: 0.20972225092827104.\n",
      "/Library/Frameworks/Python.framework/Versions/3.10/lib/python3.10/site-packages/lightgbm/callback.py:325: UserWarning: Early stopping is not available in dart mode\n",
      "  _log_warning('Early stopping is not available in dart mode')\n"
     ]
    },
    {
     "name": "stdout",
     "output_type": "stream",
     "text": [
      "[100]\tvalid_0's binary_logloss: 0.513725\n",
      "[200]\tvalid_0's binary_logloss: 0.449767\n",
      "[300]\tvalid_0's binary_logloss: 0.392781\n",
      "[400]\tvalid_0's binary_logloss: 0.34955\n",
      "[500]\tvalid_0's binary_logloss: 0.314338\n",
      "[600]\tvalid_0's binary_logloss: 0.302096\n",
      "[700]\tvalid_0's binary_logloss: 0.28273\n",
      "[800]\tvalid_0's binary_logloss: 0.272059\n",
      "[900]\tvalid_0's binary_logloss: 0.259278\n",
      "[1000]\tvalid_0's binary_logloss: 0.252123\n",
      "[1100]\tvalid_0's binary_logloss: 0.244464\n",
      "[1200]\tvalid_0's binary_logloss: 0.240803\n",
      "[1300]\tvalid_0's binary_logloss: 0.236233\n",
      "[1400]\tvalid_0's binary_logloss: 0.230529\n",
      "[1500]\tvalid_0's binary_logloss: 0.228921\n",
      "[1600]\tvalid_0's binary_logloss: 0.225171\n",
      "[1700]\tvalid_0's binary_logloss: 0.221797\n",
      "[1800]\tvalid_0's binary_logloss: 0.219606\n",
      "[1900]\tvalid_0's binary_logloss: 0.217535\n",
      "[2000]\tvalid_0's binary_logloss: 0.216286\n"
     ]
    },
    {
     "name": "stderr",
     "output_type": "stream",
     "text": [
      "[I 2024-03-29 15:29:41,625] Trial 2 finished with value: 0.21628624505968494 and parameters: {'num_leaves': 38}. Best is trial 1 with value: 0.20972225092827104.\n",
      "/Library/Frameworks/Python.framework/Versions/3.10/lib/python3.10/site-packages/lightgbm/callback.py:325: UserWarning: Early stopping is not available in dart mode\n",
      "  _log_warning('Early stopping is not available in dart mode')\n"
     ]
    },
    {
     "name": "stdout",
     "output_type": "stream",
     "text": [
      "[100]\tvalid_0's binary_logloss: 0.503777\n",
      "[200]\tvalid_0's binary_logloss: 0.436794\n",
      "[300]\tvalid_0's binary_logloss: 0.378097\n",
      "[400]\tvalid_0's binary_logloss: 0.334458\n",
      "[500]\tvalid_0's binary_logloss: 0.299664\n",
      "[600]\tvalid_0's binary_logloss: 0.288375\n",
      "[700]\tvalid_0's binary_logloss: 0.270717\n",
      "[800]\tvalid_0's binary_logloss: 0.261227\n",
      "[900]\tvalid_0's binary_logloss: 0.249945\n",
      "[1000]\tvalid_0's binary_logloss: 0.243798\n",
      "[1100]\tvalid_0's binary_logloss: 0.237179\n",
      "[1200]\tvalid_0's binary_logloss: 0.234376\n",
      "[1300]\tvalid_0's binary_logloss: 0.230327\n",
      "[1400]\tvalid_0's binary_logloss: 0.22512\n",
      "[1500]\tvalid_0's binary_logloss: 0.223852\n",
      "[1600]\tvalid_0's binary_logloss: 0.220669\n",
      "[1700]\tvalid_0's binary_logloss: 0.217876\n",
      "[1800]\tvalid_0's binary_logloss: 0.216097\n",
      "[1900]\tvalid_0's binary_logloss: 0.214606\n",
      "[2000]\tvalid_0's binary_logloss: 0.213643\n"
     ]
    },
    {
     "name": "stderr",
     "output_type": "stream",
     "text": [
      "[I 2024-03-29 15:43:25,270] Trial 3 finished with value: 0.21364257699422753 and parameters: {'num_leaves': 68}. Best is trial 1 with value: 0.20972225092827104.\n",
      "/Library/Frameworks/Python.framework/Versions/3.10/lib/python3.10/site-packages/lightgbm/callback.py:325: UserWarning: Early stopping is not available in dart mode\n",
      "  _log_warning('Early stopping is not available in dart mode')\n"
     ]
    },
    {
     "name": "stdout",
     "output_type": "stream",
     "text": [
      "[100]\tvalid_0's binary_logloss: 0.49514\n",
      "[200]\tvalid_0's binary_logloss: 0.425527\n",
      "[300]\tvalid_0's binary_logloss: 0.365963\n",
      "[400]\tvalid_0's binary_logloss: 0.323289\n",
      "[500]\tvalid_0's binary_logloss: 0.289264\n",
      "[600]\tvalid_0's binary_logloss: 0.278894\n",
      "[700]\tvalid_0's binary_logloss: 0.262218\n",
      "[800]\tvalid_0's binary_logloss: 0.253391\n",
      "[900]\tvalid_0's binary_logloss: 0.242699\n",
      "[1000]\tvalid_0's binary_logloss: 0.237099\n",
      "[1100]\tvalid_0's binary_logloss: 0.231212\n",
      "[1200]\tvalid_0's binary_logloss: 0.228753\n",
      "[1300]\tvalid_0's binary_logloss: 0.22553\n",
      "[1400]\tvalid_0's binary_logloss: 0.220918\n",
      "[1500]\tvalid_0's binary_logloss: 0.219911\n",
      "[1600]\tvalid_0's binary_logloss: 0.217044\n",
      "[1700]\tvalid_0's binary_logloss: 0.214617\n",
      "[1800]\tvalid_0's binary_logloss: 0.213122\n",
      "[1900]\tvalid_0's binary_logloss: 0.211739\n",
      "[2000]\tvalid_0's binary_logloss: 0.210876\n"
     ]
    },
    {
     "name": "stderr",
     "output_type": "stream",
     "text": [
      "[I 2024-03-29 16:03:01,018] Trial 4 finished with value: 0.2108755449197185 and parameters: {'num_leaves': 139}. Best is trial 1 with value: 0.20972225092827104.\n",
      "/Library/Frameworks/Python.framework/Versions/3.10/lib/python3.10/site-packages/lightgbm/callback.py:325: UserWarning: Early stopping is not available in dart mode\n",
      "  _log_warning('Early stopping is not available in dart mode')\n"
     ]
    },
    {
     "name": "stdout",
     "output_type": "stream",
     "text": [
      "[100]\tvalid_0's binary_logloss: 0.491255\n",
      "[200]\tvalid_0's binary_logloss: 0.420536\n",
      "[300]\tvalid_0's binary_logloss: 0.360156\n",
      "[400]\tvalid_0's binary_logloss: 0.317789\n",
      "[500]\tvalid_0's binary_logloss: 0.284285\n",
      "[600]\tvalid_0's binary_logloss: 0.27412\n",
      "[700]\tvalid_0's binary_logloss: 0.257517\n",
      "[800]\tvalid_0's binary_logloss: 0.248933\n",
      "[900]\tvalid_0's binary_logloss: 0.238468\n",
      "[1000]\tvalid_0's binary_logloss: 0.232971\n",
      "[1100]\tvalid_0's binary_logloss: 0.227336\n",
      "[1200]\tvalid_0's binary_logloss: 0.225127\n",
      "[1300]\tvalid_0's binary_logloss: 0.221988\n",
      "[1400]\tvalid_0's binary_logloss: 0.217813\n",
      "[1500]\tvalid_0's binary_logloss: 0.216921\n",
      "[1600]\tvalid_0's binary_logloss: 0.214219\n",
      "[1700]\tvalid_0's binary_logloss: 0.212088\n",
      "[1800]\tvalid_0's binary_logloss: 0.210607\n",
      "[1900]\tvalid_0's binary_logloss: 0.209294\n",
      "[2000]\tvalid_0's binary_logloss: 0.208459\n"
     ]
    },
    {
     "name": "stderr",
     "output_type": "stream",
     "text": [
      "[I 2024-03-29 16:26:14,206] Trial 5 finished with value: 0.20845948343381915 and parameters: {'num_leaves': 251}. Best is trial 5 with value: 0.20845948343381915.\n",
      "/Library/Frameworks/Python.framework/Versions/3.10/lib/python3.10/site-packages/lightgbm/callback.py:325: UserWarning: Early stopping is not available in dart mode\n",
      "  _log_warning('Early stopping is not available in dart mode')\n"
     ]
    },
    {
     "name": "stdout",
     "output_type": "stream",
     "text": [
      "[100]\tvalid_0's binary_logloss: 0.493309\n",
      "[200]\tvalid_0's binary_logloss: 0.423136\n",
      "[300]\tvalid_0's binary_logloss: 0.363051\n",
      "[400]\tvalid_0's binary_logloss: 0.320843\n",
      "[500]\tvalid_0's binary_logloss: 0.287053\n",
      "[600]\tvalid_0's binary_logloss: 0.276801\n",
      "[700]\tvalid_0's binary_logloss: 0.260315\n",
      "[800]\tvalid_0's binary_logloss: 0.251514\n",
      "[900]\tvalid_0's binary_logloss: 0.240835\n",
      "[1000]\tvalid_0's binary_logloss: 0.235282\n",
      "[1100]\tvalid_0's binary_logloss: 0.229664\n",
      "[1200]\tvalid_0's binary_logloss: 0.227273\n",
      "[1300]\tvalid_0's binary_logloss: 0.224\n",
      "[1400]\tvalid_0's binary_logloss: 0.219728\n",
      "[1500]\tvalid_0's binary_logloss: 0.218801\n",
      "[1600]\tvalid_0's binary_logloss: 0.215966\n",
      "[1700]\tvalid_0's binary_logloss: 0.213554\n",
      "[1800]\tvalid_0's binary_logloss: 0.212097\n",
      "[1900]\tvalid_0's binary_logloss: 0.210781\n",
      "[2000]\tvalid_0's binary_logloss: 0.209942\n"
     ]
    },
    {
     "name": "stderr",
     "output_type": "stream",
     "text": [
      "[I 2024-03-29 16:47:33,196] Trial 6 finished with value: 0.20994194959917992 and parameters: {'num_leaves': 175}. Best is trial 5 with value: 0.20845948343381915.\n",
      "/Library/Frameworks/Python.framework/Versions/3.10/lib/python3.10/site-packages/lightgbm/callback.py:325: UserWarning: Early stopping is not available in dart mode\n",
      "  _log_warning('Early stopping is not available in dart mode')\n"
     ]
    },
    {
     "name": "stdout",
     "output_type": "stream",
     "text": [
      "[100]\tvalid_0's binary_logloss: 0.497372\n",
      "[200]\tvalid_0's binary_logloss: 0.427941\n",
      "[300]\tvalid_0's binary_logloss: 0.368681\n",
      "[400]\tvalid_0's binary_logloss: 0.325741\n",
      "[500]\tvalid_0's binary_logloss: 0.291541\n",
      "[600]\tvalid_0's binary_logloss: 0.280966\n",
      "[700]\tvalid_0's binary_logloss: 0.264241\n",
      "[800]\tvalid_0's binary_logloss: 0.255272\n",
      "[900]\tvalid_0's binary_logloss: 0.244428\n",
      "[1000]\tvalid_0's binary_logloss: 0.238724\n",
      "[1100]\tvalid_0's binary_logloss: 0.232865\n",
      "[1200]\tvalid_0's binary_logloss: 0.230316\n",
      "[1300]\tvalid_0's binary_logloss: 0.226817\n",
      "[1400]\tvalid_0's binary_logloss: 0.222058\n",
      "[1500]\tvalid_0's binary_logloss: 0.220969\n",
      "[1600]\tvalid_0's binary_logloss: 0.218029\n",
      "[1700]\tvalid_0's binary_logloss: 0.21553\n",
      "[1800]\tvalid_0's binary_logloss: 0.213879\n",
      "[1900]\tvalid_0's binary_logloss: 0.21241\n",
      "[2000]\tvalid_0's binary_logloss: 0.211618\n"
     ]
    },
    {
     "name": "stderr",
     "output_type": "stream",
     "text": [
      "[I 2024-03-29 17:05:55,266] Trial 7 finished with value: 0.21161767146177823 and parameters: {'num_leaves': 113}. Best is trial 5 with value: 0.20845948343381915.\n",
      "/Library/Frameworks/Python.framework/Versions/3.10/lib/python3.10/site-packages/lightgbm/callback.py:325: UserWarning: Early stopping is not available in dart mode\n",
      "  _log_warning('Early stopping is not available in dart mode')\n"
     ]
    },
    {
     "name": "stdout",
     "output_type": "stream",
     "text": [
      "[100]\tvalid_0's binary_logloss: 0.490731\n",
      "[200]\tvalid_0's binary_logloss: 0.419908\n",
      "[300]\tvalid_0's binary_logloss: 0.359386\n",
      "[400]\tvalid_0's binary_logloss: 0.317019\n",
      "[500]\tvalid_0's binary_logloss: 0.283596\n",
      "[600]\tvalid_0's binary_logloss: 0.273325\n",
      "[700]\tvalid_0's binary_logloss: 0.25675\n",
      "[800]\tvalid_0's binary_logloss: 0.247987\n",
      "[900]\tvalid_0's binary_logloss: 0.237617\n",
      "[1000]\tvalid_0's binary_logloss: 0.232132\n",
      "[1100]\tvalid_0's binary_logloss: 0.226638\n",
      "[1200]\tvalid_0's binary_logloss: 0.224393\n",
      "[1300]\tvalid_0's binary_logloss: 0.221145\n",
      "[1400]\tvalid_0's binary_logloss: 0.216982\n",
      "[1500]\tvalid_0's binary_logloss: 0.216108\n",
      "[1600]\tvalid_0's binary_logloss: 0.213478\n",
      "[1700]\tvalid_0's binary_logloss: 0.211465\n",
      "[1800]\tvalid_0's binary_logloss: 0.21008\n",
      "[1900]\tvalid_0's binary_logloss: 0.208722\n",
      "[2000]\tvalid_0's binary_logloss: 0.207934\n"
     ]
    },
    {
     "name": "stderr",
     "output_type": "stream",
     "text": [
      "[I 2024-03-29 17:29:25,508] Trial 8 finished with value: 0.20793431339434731 and parameters: {'num_leaves': 277}. Best is trial 8 with value: 0.20793431339434731.\n",
      "/Library/Frameworks/Python.framework/Versions/3.10/lib/python3.10/site-packages/lightgbm/callback.py:325: UserWarning: Early stopping is not available in dart mode\n",
      "  _log_warning('Early stopping is not available in dart mode')\n"
     ]
    },
    {
     "name": "stdout",
     "output_type": "stream",
     "text": [
      "[100]\tvalid_0's binary_logloss: 0.505398\n",
      "[200]\tvalid_0's binary_logloss: 0.438758\n",
      "[300]\tvalid_0's binary_logloss: 0.38011\n",
      "[400]\tvalid_0's binary_logloss: 0.336723\n",
      "[500]\tvalid_0's binary_logloss: 0.30168\n",
      "[600]\tvalid_0's binary_logloss: 0.290212\n",
      "[700]\tvalid_0's binary_logloss: 0.272261\n",
      "[800]\tvalid_0's binary_logloss: 0.262775\n",
      "[900]\tvalid_0's binary_logloss: 0.251129\n",
      "[1000]\tvalid_0's binary_logloss: 0.244877\n",
      "[1100]\tvalid_0's binary_logloss: 0.238114\n",
      "[1200]\tvalid_0's binary_logloss: 0.235216\n",
      "[1300]\tvalid_0's binary_logloss: 0.23114\n",
      "[1400]\tvalid_0's binary_logloss: 0.225824\n",
      "[1500]\tvalid_0's binary_logloss: 0.224521\n",
      "[1600]\tvalid_0's binary_logloss: 0.221224\n",
      "[1700]\tvalid_0's binary_logloss: 0.218458\n",
      "[1800]\tvalid_0's binary_logloss: 0.216611\n",
      "[1900]\tvalid_0's binary_logloss: 0.214948\n",
      "[2000]\tvalid_0's binary_logloss: 0.213994\n"
     ]
    },
    {
     "name": "stderr",
     "output_type": "stream",
     "text": [
      "[I 2024-03-29 17:42:54,996] Trial 9 finished with value: 0.21399364088115824 and parameters: {'num_leaves': 62}. Best is trial 8 with value: 0.20793431339434731.\n",
      "/Library/Frameworks/Python.framework/Versions/3.10/lib/python3.10/site-packages/lightgbm/callback.py:325: UserWarning: Early stopping is not available in dart mode\n",
      "  _log_warning('Early stopping is not available in dart mode')\n"
     ]
    },
    {
     "name": "stdout",
     "output_type": "stream",
     "text": [
      "[100]\tvalid_0's binary_logloss: 0.490478\n",
      "[200]\tvalid_0's binary_logloss: 0.419401\n",
      "[300]\tvalid_0's binary_logloss: 0.358951\n",
      "[400]\tvalid_0's binary_logloss: 0.316527\n",
      "[500]\tvalid_0's binary_logloss: 0.283061\n",
      "[600]\tvalid_0's binary_logloss: 0.272786\n",
      "[700]\tvalid_0's binary_logloss: 0.256176\n",
      "[800]\tvalid_0's binary_logloss: 0.247598\n",
      "[900]\tvalid_0's binary_logloss: 0.237259\n",
      "[1000]\tvalid_0's binary_logloss: 0.231833\n",
      "[1100]\tvalid_0's binary_logloss: 0.226348\n",
      "[1200]\tvalid_0's binary_logloss: 0.224179\n",
      "[1300]\tvalid_0's binary_logloss: 0.221014\n",
      "[1400]\tvalid_0's binary_logloss: 0.216863\n",
      "[1500]\tvalid_0's binary_logloss: 0.216021\n",
      "[1600]\tvalid_0's binary_logloss: 0.213387\n",
      "[1700]\tvalid_0's binary_logloss: 0.211205\n",
      "[1800]\tvalid_0's binary_logloss: 0.209755\n",
      "[1900]\tvalid_0's binary_logloss: 0.20838\n",
      "[2000]\tvalid_0's binary_logloss: 0.207621\n"
     ]
    },
    {
     "name": "stderr",
     "output_type": "stream",
     "text": [
      "[I 2024-03-29 18:07:00,914] Trial 10 finished with value: 0.20762088881169874 and parameters: {'num_leaves': 295}. Best is trial 10 with value: 0.20762088881169874.\n",
      "/Library/Frameworks/Python.framework/Versions/3.10/lib/python3.10/site-packages/lightgbm/callback.py:325: UserWarning: Early stopping is not available in dart mode\n",
      "  _log_warning('Early stopping is not available in dart mode')\n"
     ]
    },
    {
     "name": "stdout",
     "output_type": "stream",
     "text": [
      "[100]\tvalid_0's binary_logloss: 0.490317\n",
      "[200]\tvalid_0's binary_logloss: 0.419237\n",
      "[300]\tvalid_0's binary_logloss: 0.358821\n",
      "[400]\tvalid_0's binary_logloss: 0.316478\n",
      "[500]\tvalid_0's binary_logloss: 0.282995\n",
      "[600]\tvalid_0's binary_logloss: 0.272718\n",
      "[700]\tvalid_0's binary_logloss: 0.256069\n",
      "[800]\tvalid_0's binary_logloss: 0.247419\n",
      "[900]\tvalid_0's binary_logloss: 0.237055\n",
      "[1000]\tvalid_0's binary_logloss: 0.23157\n",
      "[1100]\tvalid_0's binary_logloss: 0.226077\n",
      "[1200]\tvalid_0's binary_logloss: 0.223916\n",
      "[1300]\tvalid_0's binary_logloss: 0.220776\n",
      "[1400]\tvalid_0's binary_logloss: 0.216615\n",
      "[1500]\tvalid_0's binary_logloss: 0.215586\n",
      "[1600]\tvalid_0's binary_logloss: 0.213021\n",
      "[1700]\tvalid_0's binary_logloss: 0.210893\n",
      "[1800]\tvalid_0's binary_logloss: 0.209444\n",
      "[1900]\tvalid_0's binary_logloss: 0.20818\n",
      "[2000]\tvalid_0's binary_logloss: 0.207385\n"
     ]
    },
    {
     "name": "stderr",
     "output_type": "stream",
     "text": [
      "[I 2024-03-29 18:30:38,757] Trial 11 finished with value: 0.20738547176662459 and parameters: {'num_leaves': 300}. Best is trial 11 with value: 0.20738547176662459.\n",
      "/Library/Frameworks/Python.framework/Versions/3.10/lib/python3.10/site-packages/lightgbm/callback.py:325: UserWarning: Early stopping is not available in dart mode\n",
      "  _log_warning('Early stopping is not available in dart mode')\n"
     ]
    },
    {
     "name": "stdout",
     "output_type": "stream",
     "text": [
      "[100]\tvalid_0's binary_logloss: 0.490317\n",
      "[200]\tvalid_0's binary_logloss: 0.419237\n",
      "[300]\tvalid_0's binary_logloss: 0.358821\n",
      "[400]\tvalid_0's binary_logloss: 0.316478\n",
      "[500]\tvalid_0's binary_logloss: 0.282995\n",
      "[600]\tvalid_0's binary_logloss: 0.272718\n",
      "[700]\tvalid_0's binary_logloss: 0.256069\n",
      "[800]\tvalid_0's binary_logloss: 0.247419\n",
      "[900]\tvalid_0's binary_logloss: 0.237055\n",
      "[1000]\tvalid_0's binary_logloss: 0.23157\n",
      "[1100]\tvalid_0's binary_logloss: 0.226077\n",
      "[1200]\tvalid_0's binary_logloss: 0.223916\n",
      "[1300]\tvalid_0's binary_logloss: 0.220776\n",
      "[1400]\tvalid_0's binary_logloss: 0.216615\n",
      "[1500]\tvalid_0's binary_logloss: 0.215586\n",
      "[1600]\tvalid_0's binary_logloss: 0.213021\n",
      "[1700]\tvalid_0's binary_logloss: 0.210893\n",
      "[1800]\tvalid_0's binary_logloss: 0.209444\n",
      "[1900]\tvalid_0's binary_logloss: 0.20818\n",
      "[2000]\tvalid_0's binary_logloss: 0.207385\n"
     ]
    },
    {
     "name": "stderr",
     "output_type": "stream",
     "text": [
      "[I 2024-03-29 18:54:48,101] Trial 12 finished with value: 0.20738547176662459 and parameters: {'num_leaves': 300}. Best is trial 11 with value: 0.20738547176662459.\n",
      "/Library/Frameworks/Python.framework/Versions/3.10/lib/python3.10/site-packages/lightgbm/callback.py:325: UserWarning: Early stopping is not available in dart mode\n",
      "  _log_warning('Early stopping is not available in dart mode')\n"
     ]
    },
    {
     "name": "stdout",
     "output_type": "stream",
     "text": [
      "[100]\tvalid_0's binary_logloss: 0.4917\n",
      "[200]\tvalid_0's binary_logloss: 0.421077\n",
      "[300]\tvalid_0's binary_logloss: 0.360793\n",
      "[400]\tvalid_0's binary_logloss: 0.31856\n",
      "[500]\tvalid_0's binary_logloss: 0.284913\n",
      "[600]\tvalid_0's binary_logloss: 0.274873\n",
      "[700]\tvalid_0's binary_logloss: 0.258335\n",
      "[800]\tvalid_0's binary_logloss: 0.249467\n",
      "[900]\tvalid_0's binary_logloss: 0.239046\n",
      "[1000]\tvalid_0's binary_logloss: 0.233572\n",
      "[1100]\tvalid_0's binary_logloss: 0.227893\n",
      "[1200]\tvalid_0's binary_logloss: 0.225556\n",
      "[1300]\tvalid_0's binary_logloss: 0.222388\n",
      "[1400]\tvalid_0's binary_logloss: 0.218213\n",
      "[1500]\tvalid_0's binary_logloss: 0.217299\n",
      "[1600]\tvalid_0's binary_logloss: 0.214567\n",
      "[1700]\tvalid_0's binary_logloss: 0.212316\n",
      "[1800]\tvalid_0's binary_logloss: 0.210778\n",
      "[1900]\tvalid_0's binary_logloss: 0.209402\n",
      "[2000]\tvalid_0's binary_logloss: 0.20856\n"
     ]
    },
    {
     "name": "stderr",
     "output_type": "stream",
     "text": [
      "[I 2024-03-29 19:17:13,472] Trial 13 finished with value: 0.20855984780859527 and parameters: {'num_leaves': 230}. Best is trial 11 with value: 0.20738547176662459.\n",
      "/Library/Frameworks/Python.framework/Versions/3.10/lib/python3.10/site-packages/lightgbm/callback.py:325: UserWarning: Early stopping is not available in dart mode\n",
      "  _log_warning('Early stopping is not available in dart mode')\n"
     ]
    },
    {
     "name": "stdout",
     "output_type": "stream",
     "text": [
      "[100]\tvalid_0's binary_logloss: 0.491955\n",
      "[200]\tvalid_0's binary_logloss: 0.421275\n",
      "[300]\tvalid_0's binary_logloss: 0.361182\n",
      "[400]\tvalid_0's binary_logloss: 0.31899\n",
      "[500]\tvalid_0's binary_logloss: 0.285322\n",
      "[600]\tvalid_0's binary_logloss: 0.275089\n",
      "[700]\tvalid_0's binary_logloss: 0.258597\n",
      "[800]\tvalid_0's binary_logloss: 0.249744\n",
      "[900]\tvalid_0's binary_logloss: 0.239276\n",
      "[1000]\tvalid_0's binary_logloss: 0.233751\n",
      "[1100]\tvalid_0's binary_logloss: 0.228183\n",
      "[1200]\tvalid_0's binary_logloss: 0.22581\n",
      "[1300]\tvalid_0's binary_logloss: 0.222643\n",
      "[1400]\tvalid_0's binary_logloss: 0.218428\n",
      "[1500]\tvalid_0's binary_logloss: 0.217529\n",
      "[1600]\tvalid_0's binary_logloss: 0.214875\n",
      "[1700]\tvalid_0's binary_logloss: 0.212657\n",
      "[1800]\tvalid_0's binary_logloss: 0.211299\n",
      "[1900]\tvalid_0's binary_logloss: 0.209963\n",
      "[2000]\tvalid_0's binary_logloss: 0.209123\n"
     ]
    },
    {
     "name": "stderr",
     "output_type": "stream",
     "text": [
      "[I 2024-03-29 19:39:24,776] Trial 14 finished with value: 0.20912282600723656 and parameters: {'num_leaves': 221}. Best is trial 11 with value: 0.20738547176662459.\n",
      "/Library/Frameworks/Python.framework/Versions/3.10/lib/python3.10/site-packages/lightgbm/callback.py:325: UserWarning: Early stopping is not available in dart mode\n",
      "  _log_warning('Early stopping is not available in dart mode')\n"
     ]
    },
    {
     "name": "stdout",
     "output_type": "stream",
     "text": [
      "[100]\tvalid_0's binary_logloss: 0.49041\n",
      "[200]\tvalid_0's binary_logloss: 0.419365\n",
      "[300]\tvalid_0's binary_logloss: 0.358953\n",
      "[400]\tvalid_0's binary_logloss: 0.316531\n",
      "[500]\tvalid_0's binary_logloss: 0.283185\n",
      "[600]\tvalid_0's binary_logloss: 0.272897\n",
      "[700]\tvalid_0's binary_logloss: 0.256313\n",
      "[800]\tvalid_0's binary_logloss: 0.247738\n",
      "[900]\tvalid_0's binary_logloss: 0.237305\n",
      "[1000]\tvalid_0's binary_logloss: 0.231795\n",
      "[1100]\tvalid_0's binary_logloss: 0.226294\n",
      "[1200]\tvalid_0's binary_logloss: 0.224116\n",
      "[1300]\tvalid_0's binary_logloss: 0.220875\n",
      "[1400]\tvalid_0's binary_logloss: 0.216753\n",
      "[1500]\tvalid_0's binary_logloss: 0.215885\n",
      "[1600]\tvalid_0's binary_logloss: 0.213191\n",
      "[1700]\tvalid_0's binary_logloss: 0.211048\n",
      "[1800]\tvalid_0's binary_logloss: 0.209628\n",
      "[1900]\tvalid_0's binary_logloss: 0.208356\n",
      "[2000]\tvalid_0's binary_logloss: 0.207591\n"
     ]
    },
    {
     "name": "stderr",
     "output_type": "stream",
     "text": [
      "[I 2024-03-29 20:03:42,219] Trial 15 finished with value: 0.20759075534411162 and parameters: {'num_leaves': 296}. Best is trial 11 with value: 0.20738547176662459.\n",
      "/Library/Frameworks/Python.framework/Versions/3.10/lib/python3.10/site-packages/lightgbm/callback.py:325: UserWarning: Early stopping is not available in dart mode\n",
      "  _log_warning('Early stopping is not available in dart mode')\n"
     ]
    },
    {
     "name": "stdout",
     "output_type": "stream",
     "text": [
      "[100]\tvalid_0's binary_logloss: 0.491305\n",
      "[200]\tvalid_0's binary_logloss: 0.420613\n",
      "[300]\tvalid_0's binary_logloss: 0.360247\n",
      "[400]\tvalid_0's binary_logloss: 0.318006\n",
      "[500]\tvalid_0's binary_logloss: 0.284539\n",
      "[600]\tvalid_0's binary_logloss: 0.274321\n",
      "[700]\tvalid_0's binary_logloss: 0.257653\n",
      "[800]\tvalid_0's binary_logloss: 0.248889\n",
      "[900]\tvalid_0's binary_logloss: 0.238403\n",
      "[1000]\tvalid_0's binary_logloss: 0.232944\n",
      "[1100]\tvalid_0's binary_logloss: 0.227321\n",
      "[1200]\tvalid_0's binary_logloss: 0.225157\n",
      "[1300]\tvalid_0's binary_logloss: 0.222027\n",
      "[1400]\tvalid_0's binary_logloss: 0.217718\n",
      "[1500]\tvalid_0's binary_logloss: 0.216869\n",
      "[1600]\tvalid_0's binary_logloss: 0.214253\n",
      "[1700]\tvalid_0's binary_logloss: 0.212018\n",
      "[1800]\tvalid_0's binary_logloss: 0.210562\n",
      "[1900]\tvalid_0's binary_logloss: 0.20924\n",
      "[2000]\tvalid_0's binary_logloss: 0.208403\n"
     ]
    },
    {
     "name": "stderr",
     "output_type": "stream",
     "text": [
      "[I 2024-03-29 20:26:26,819] Trial 16 finished with value: 0.20840255218873044 and parameters: {'num_leaves': 249}. Best is trial 11 with value: 0.20738547176662459.\n",
      "/Library/Frameworks/Python.framework/Versions/3.10/lib/python3.10/site-packages/lightgbm/callback.py:325: UserWarning: Early stopping is not available in dart mode\n",
      "  _log_warning('Early stopping is not available in dart mode')\n"
     ]
    },
    {
     "name": "stdout",
     "output_type": "stream",
     "text": [
      "[100]\tvalid_0's binary_logloss: 0.492345\n",
      "[200]\tvalid_0's binary_logloss: 0.421843\n",
      "[300]\tvalid_0's binary_logloss: 0.361818\n",
      "[400]\tvalid_0's binary_logloss: 0.319677\n",
      "[500]\tvalid_0's binary_logloss: 0.285864\n",
      "[600]\tvalid_0's binary_logloss: 0.275748\n",
      "[700]\tvalid_0's binary_logloss: 0.259304\n",
      "[800]\tvalid_0's binary_logloss: 0.250479\n",
      "[900]\tvalid_0's binary_logloss: 0.23988\n",
      "[1000]\tvalid_0's binary_logloss: 0.234463\n",
      "[1100]\tvalid_0's binary_logloss: 0.228638\n",
      "[1200]\tvalid_0's binary_logloss: 0.226255\n",
      "[1300]\tvalid_0's binary_logloss: 0.223139\n",
      "[1400]\tvalid_0's binary_logloss: 0.218841\n",
      "[1500]\tvalid_0's binary_logloss: 0.217938\n",
      "[1600]\tvalid_0's binary_logloss: 0.215271\n",
      "[1700]\tvalid_0's binary_logloss: 0.213041\n",
      "[1800]\tvalid_0's binary_logloss: 0.211576\n",
      "[1900]\tvalid_0's binary_logloss: 0.210249\n",
      "[2000]\tvalid_0's binary_logloss: 0.209497\n"
     ]
    },
    {
     "name": "stderr",
     "output_type": "stream",
     "text": [
      "[I 2024-03-29 20:48:02,595] Trial 17 finished with value: 0.20949668694110551 and parameters: {'num_leaves': 204}. Best is trial 11 with value: 0.20738547176662459.\n",
      "/Library/Frameworks/Python.framework/Versions/3.10/lib/python3.10/site-packages/lightgbm/callback.py:325: UserWarning: Early stopping is not available in dart mode\n",
      "  _log_warning('Early stopping is not available in dart mode')\n"
     ]
    },
    {
     "name": "stdout",
     "output_type": "stream",
     "text": [
      "[100]\tvalid_0's binary_logloss: 0.490921\n",
      "[200]\tvalid_0's binary_logloss: 0.420176\n",
      "[300]\tvalid_0's binary_logloss: 0.359755\n",
      "[400]\tvalid_0's binary_logloss: 0.317366\n",
      "[500]\tvalid_0's binary_logloss: 0.28389\n",
      "[600]\tvalid_0's binary_logloss: 0.27371\n",
      "[700]\tvalid_0's binary_logloss: 0.257088\n",
      "[800]\tvalid_0's binary_logloss: 0.248404\n",
      "[900]\tvalid_0's binary_logloss: 0.237975\n",
      "[1000]\tvalid_0's binary_logloss: 0.232477\n",
      "[1100]\tvalid_0's binary_logloss: 0.22698\n",
      "[1200]\tvalid_0's binary_logloss: 0.224751\n",
      "[1300]\tvalid_0's binary_logloss: 0.221617\n",
      "[1400]\tvalid_0's binary_logloss: 0.217393\n",
      "[1500]\tvalid_0's binary_logloss: 0.216413\n",
      "[1600]\tvalid_0's binary_logloss: 0.213732\n",
      "[1700]\tvalid_0's binary_logloss: 0.21155\n",
      "[1800]\tvalid_0's binary_logloss: 0.210055\n",
      "[1900]\tvalid_0's binary_logloss: 0.20879\n",
      "[2000]\tvalid_0's binary_logloss: 0.208031\n"
     ]
    },
    {
     "name": "stderr",
     "output_type": "stream",
     "text": [
      "[I 2024-03-29 21:11:34,072] Trial 18 finished with value: 0.20803093409043288 and parameters: {'num_leaves': 267}. Best is trial 11 with value: 0.20738547176662459.\n",
      "/Library/Frameworks/Python.framework/Versions/3.10/lib/python3.10/site-packages/lightgbm/callback.py:325: UserWarning: Early stopping is not available in dart mode\n",
      "  _log_warning('Early stopping is not available in dart mode')\n"
     ]
    },
    {
     "name": "stdout",
     "output_type": "stream",
     "text": [
      "[100]\tvalid_0's binary_logloss: 0.494433\n",
      "[200]\tvalid_0's binary_logloss: 0.424547\n",
      "[300]\tvalid_0's binary_logloss: 0.36488\n",
      "[400]\tvalid_0's binary_logloss: 0.32236\n",
      "[500]\tvalid_0's binary_logloss: 0.288437\n",
      "[600]\tvalid_0's binary_logloss: 0.27807\n",
      "[700]\tvalid_0's binary_logloss: 0.261526\n"
     ]
    },
    {
     "name": "stderr",
     "output_type": "stream",
     "text": [
      "[W 2024-03-29 21:16:45,350] Trial 19 failed with parameters: {'num_leaves': 150} because of the following error: KeyboardInterrupt().\n",
      "Traceback (most recent call last):\n",
      "  File \"/Library/Frameworks/Python.framework/Versions/3.10/lib/python3.10/site-packages/optuna/study/_optimize.py\", line 196, in _run_trial\n",
      "    value_or_values = func(trial)\n",
      "  File \"/var/folders/w5/7276v8b14pj5_4lrc2r9xkvr0000gn/T/ipykernel_26500/2684284992.py\", line 29, in objective\n",
      "    gbm = lgb.train(param, lgb.Dataset(X_train, label=y_train),num_boost_round=2000, valid_sets=[lgb.Dataset(X_valid, label=y_valid)],callbacks=[lgb.early_stopping(stopping_rounds=100),lgb.log_evaluation(period=100)])\n",
      "  File \"/Library/Frameworks/Python.framework/Versions/3.10/lib/python3.10/site-packages/lightgbm/engine.py\", line 276, in train\n",
      "    booster.update(fobj=fobj)\n",
      "  File \"/Library/Frameworks/Python.framework/Versions/3.10/lib/python3.10/site-packages/lightgbm/basic.py\", line 3891, in update\n",
      "    _safe_call(_LIB.LGBM_BoosterUpdateOneIter(\n",
      "KeyboardInterrupt\n",
      "[W 2024-03-29 21:16:45,358] Trial 19 failed with value None.\n"
     ]
    },
    {
     "ename": "KeyboardInterrupt",
     "evalue": "",
     "output_type": "error",
     "traceback": [
      "\u001b[0;31m---------------------------------------------------------------------------\u001b[0m",
      "\u001b[0;31mKeyboardInterrupt\u001b[0m                         Traceback (most recent call last)",
      "Cell \u001b[0;32mIn[7], line 36\u001b[0m\n\u001b[1;32m     33\u001b[0m     \u001b[39mreturn\u001b[39;00m loss\n\u001b[1;32m     35\u001b[0m study \u001b[39m=\u001b[39m optuna\u001b[39m.\u001b[39mcreate_study(direction\u001b[39m=\u001b[39m\u001b[39m'\u001b[39m\u001b[39mminimize\u001b[39m\u001b[39m'\u001b[39m)\n\u001b[0;32m---> 36\u001b[0m study\u001b[39m.\u001b[39;49moptimize(objective, n_trials\u001b[39m=\u001b[39;49m\u001b[39m100\u001b[39;49m) \u001b[39m# You can adjust the number of trials\u001b[39;00m\n\u001b[1;32m     38\u001b[0m \u001b[39mprint\u001b[39m(\u001b[39m'\u001b[39m\u001b[39mNumber of finished trials:\u001b[39m\u001b[39m'\u001b[39m, \u001b[39mlen\u001b[39m(study\u001b[39m.\u001b[39mtrials))\n\u001b[1;32m     39\u001b[0m \u001b[39mprint\u001b[39m(\u001b[39m'\u001b[39m\u001b[39mBest trial:\u001b[39m\u001b[39m'\u001b[39m, study\u001b[39m.\u001b[39mbest_trial\u001b[39m.\u001b[39mparams)\n",
      "File \u001b[0;32m/Library/Frameworks/Python.framework/Versions/3.10/lib/python3.10/site-packages/optuna/study/study.py:451\u001b[0m, in \u001b[0;36mStudy.optimize\u001b[0;34m(self, func, n_trials, timeout, n_jobs, catch, callbacks, gc_after_trial, show_progress_bar)\u001b[0m\n\u001b[1;32m    348\u001b[0m \u001b[39mdef\u001b[39;00m \u001b[39moptimize\u001b[39m(\n\u001b[1;32m    349\u001b[0m     \u001b[39mself\u001b[39m,\n\u001b[1;32m    350\u001b[0m     func: ObjectiveFuncType,\n\u001b[0;32m   (...)\u001b[0m\n\u001b[1;32m    357\u001b[0m     show_progress_bar: \u001b[39mbool\u001b[39m \u001b[39m=\u001b[39m \u001b[39mFalse\u001b[39;00m,\n\u001b[1;32m    358\u001b[0m ) \u001b[39m-\u001b[39m\u001b[39m>\u001b[39m \u001b[39mNone\u001b[39;00m:\n\u001b[1;32m    359\u001b[0m \u001b[39m    \u001b[39m\u001b[39m\"\"\"Optimize an objective function.\u001b[39;00m\n\u001b[1;32m    360\u001b[0m \n\u001b[1;32m    361\u001b[0m \u001b[39m    Optimization is done by choosing a suitable set of hyperparameter values from a given\u001b[39;00m\n\u001b[0;32m   (...)\u001b[0m\n\u001b[1;32m    449\u001b[0m \u001b[39m            If nested invocation of this method occurs.\u001b[39;00m\n\u001b[1;32m    450\u001b[0m \u001b[39m    \"\"\"\u001b[39;00m\n\u001b[0;32m--> 451\u001b[0m     _optimize(\n\u001b[1;32m    452\u001b[0m         study\u001b[39m=\u001b[39;49m\u001b[39mself\u001b[39;49m,\n\u001b[1;32m    453\u001b[0m         func\u001b[39m=\u001b[39;49mfunc,\n\u001b[1;32m    454\u001b[0m         n_trials\u001b[39m=\u001b[39;49mn_trials,\n\u001b[1;32m    455\u001b[0m         timeout\u001b[39m=\u001b[39;49mtimeout,\n\u001b[1;32m    456\u001b[0m         n_jobs\u001b[39m=\u001b[39;49mn_jobs,\n\u001b[1;32m    457\u001b[0m         catch\u001b[39m=\u001b[39;49m\u001b[39mtuple\u001b[39;49m(catch) \u001b[39mif\u001b[39;49;00m \u001b[39misinstance\u001b[39;49m(catch, Iterable) \u001b[39melse\u001b[39;49;00m (catch,),\n\u001b[1;32m    458\u001b[0m         callbacks\u001b[39m=\u001b[39;49mcallbacks,\n\u001b[1;32m    459\u001b[0m         gc_after_trial\u001b[39m=\u001b[39;49mgc_after_trial,\n\u001b[1;32m    460\u001b[0m         show_progress_bar\u001b[39m=\u001b[39;49mshow_progress_bar,\n\u001b[1;32m    461\u001b[0m     )\n",
      "File \u001b[0;32m/Library/Frameworks/Python.framework/Versions/3.10/lib/python3.10/site-packages/optuna/study/_optimize.py:62\u001b[0m, in \u001b[0;36m_optimize\u001b[0;34m(study, func, n_trials, timeout, n_jobs, catch, callbacks, gc_after_trial, show_progress_bar)\u001b[0m\n\u001b[1;32m     60\u001b[0m \u001b[39mtry\u001b[39;00m:\n\u001b[1;32m     61\u001b[0m     \u001b[39mif\u001b[39;00m n_jobs \u001b[39m==\u001b[39m \u001b[39m1\u001b[39m:\n\u001b[0;32m---> 62\u001b[0m         _optimize_sequential(\n\u001b[1;32m     63\u001b[0m             study,\n\u001b[1;32m     64\u001b[0m             func,\n\u001b[1;32m     65\u001b[0m             n_trials,\n\u001b[1;32m     66\u001b[0m             timeout,\n\u001b[1;32m     67\u001b[0m             catch,\n\u001b[1;32m     68\u001b[0m             callbacks,\n\u001b[1;32m     69\u001b[0m             gc_after_trial,\n\u001b[1;32m     70\u001b[0m             reseed_sampler_rng\u001b[39m=\u001b[39;49m\u001b[39mFalse\u001b[39;49;00m,\n\u001b[1;32m     71\u001b[0m             time_start\u001b[39m=\u001b[39;49m\u001b[39mNone\u001b[39;49;00m,\n\u001b[1;32m     72\u001b[0m             progress_bar\u001b[39m=\u001b[39;49mprogress_bar,\n\u001b[1;32m     73\u001b[0m         )\n\u001b[1;32m     74\u001b[0m     \u001b[39melse\u001b[39;00m:\n\u001b[1;32m     75\u001b[0m         \u001b[39mif\u001b[39;00m n_jobs \u001b[39m==\u001b[39m \u001b[39m-\u001b[39m\u001b[39m1\u001b[39m:\n",
      "File \u001b[0;32m/Library/Frameworks/Python.framework/Versions/3.10/lib/python3.10/site-packages/optuna/study/_optimize.py:159\u001b[0m, in \u001b[0;36m_optimize_sequential\u001b[0;34m(study, func, n_trials, timeout, catch, callbacks, gc_after_trial, reseed_sampler_rng, time_start, progress_bar)\u001b[0m\n\u001b[1;32m    156\u001b[0m         \u001b[39mbreak\u001b[39;00m\n\u001b[1;32m    158\u001b[0m \u001b[39mtry\u001b[39;00m:\n\u001b[0;32m--> 159\u001b[0m     frozen_trial \u001b[39m=\u001b[39m _run_trial(study, func, catch)\n\u001b[1;32m    160\u001b[0m \u001b[39mfinally\u001b[39;00m:\n\u001b[1;32m    161\u001b[0m     \u001b[39m# The following line mitigates memory problems that can be occurred in some\u001b[39;00m\n\u001b[1;32m    162\u001b[0m     \u001b[39m# environments (e.g., services that use computing containers such as GitHub Actions).\u001b[39;00m\n\u001b[1;32m    163\u001b[0m     \u001b[39m# Please refer to the following PR for further details:\u001b[39;00m\n\u001b[1;32m    164\u001b[0m     \u001b[39m# https://github.com/optuna/optuna/pull/325.\u001b[39;00m\n\u001b[1;32m    165\u001b[0m     \u001b[39mif\u001b[39;00m gc_after_trial:\n",
      "File \u001b[0;32m/Library/Frameworks/Python.framework/Versions/3.10/lib/python3.10/site-packages/optuna/study/_optimize.py:247\u001b[0m, in \u001b[0;36m_run_trial\u001b[0;34m(study, func, catch)\u001b[0m\n\u001b[1;32m    240\u001b[0m         \u001b[39massert\u001b[39;00m \u001b[39mFalse\u001b[39;00m, \u001b[39m\"\u001b[39m\u001b[39mShould not reach.\u001b[39m\u001b[39m\"\u001b[39m\n\u001b[1;32m    242\u001b[0m \u001b[39mif\u001b[39;00m (\n\u001b[1;32m    243\u001b[0m     frozen_trial\u001b[39m.\u001b[39mstate \u001b[39m==\u001b[39m TrialState\u001b[39m.\u001b[39mFAIL\n\u001b[1;32m    244\u001b[0m     \u001b[39mand\u001b[39;00m func_err \u001b[39mis\u001b[39;00m \u001b[39mnot\u001b[39;00m \u001b[39mNone\u001b[39;00m\n\u001b[1;32m    245\u001b[0m     \u001b[39mand\u001b[39;00m \u001b[39mnot\u001b[39;00m \u001b[39misinstance\u001b[39m(func_err, catch)\n\u001b[1;32m    246\u001b[0m ):\n\u001b[0;32m--> 247\u001b[0m     \u001b[39mraise\u001b[39;00m func_err\n\u001b[1;32m    248\u001b[0m \u001b[39mreturn\u001b[39;00m frozen_trial\n",
      "File \u001b[0;32m/Library/Frameworks/Python.framework/Versions/3.10/lib/python3.10/site-packages/optuna/study/_optimize.py:196\u001b[0m, in \u001b[0;36m_run_trial\u001b[0;34m(study, func, catch)\u001b[0m\n\u001b[1;32m    194\u001b[0m \u001b[39mwith\u001b[39;00m get_heartbeat_thread(trial\u001b[39m.\u001b[39m_trial_id, study\u001b[39m.\u001b[39m_storage):\n\u001b[1;32m    195\u001b[0m     \u001b[39mtry\u001b[39;00m:\n\u001b[0;32m--> 196\u001b[0m         value_or_values \u001b[39m=\u001b[39m func(trial)\n\u001b[1;32m    197\u001b[0m     \u001b[39mexcept\u001b[39;00m exceptions\u001b[39m.\u001b[39mTrialPruned \u001b[39mas\u001b[39;00m e:\n\u001b[1;32m    198\u001b[0m         \u001b[39m# TODO(mamu): Handle multi-objective cases.\u001b[39;00m\n\u001b[1;32m    199\u001b[0m         state \u001b[39m=\u001b[39m TrialState\u001b[39m.\u001b[39mPRUNED\n",
      "Cell \u001b[0;32mIn[7], line 29\u001b[0m, in \u001b[0;36mobjective\u001b[0;34m(trial)\u001b[0m\n\u001b[1;32m     13\u001b[0m param \u001b[39m=\u001b[39m {\n\u001b[1;32m     14\u001b[0m     \u001b[39m'\u001b[39m\u001b[39mobjective\u001b[39m\u001b[39m'\u001b[39m: \u001b[39m'\u001b[39m\u001b[39mbinary\u001b[39m\u001b[39m'\u001b[39m,\n\u001b[1;32m     15\u001b[0m     \u001b[39m'\u001b[39m\u001b[39mmetric\u001b[39m\u001b[39m'\u001b[39m: \u001b[39m'\u001b[39m\u001b[39mbinary_logloss\u001b[39m\u001b[39m'\u001b[39m,\n\u001b[0;32m   (...)\u001b[0m\n\u001b[1;32m     25\u001b[0m     \u001b[39m'\u001b[39m\u001b[39mreg_lambda\u001b[39m\u001b[39m'\u001b[39m: \u001b[39m0.1\u001b[39m,\n\u001b[1;32m     26\u001b[0m }\n\u001b[1;32m     28\u001b[0m \u001b[39m# Training the model with the trial's parameters\u001b[39;00m\n\u001b[0;32m---> 29\u001b[0m gbm \u001b[39m=\u001b[39m lgb\u001b[39m.\u001b[39;49mtrain(param, lgb\u001b[39m.\u001b[39;49mDataset(X_train, label\u001b[39m=\u001b[39;49my_train),num_boost_round\u001b[39m=\u001b[39;49m\u001b[39m2000\u001b[39;49m, valid_sets\u001b[39m=\u001b[39;49m[lgb\u001b[39m.\u001b[39;49mDataset(X_valid, label\u001b[39m=\u001b[39;49my_valid)],callbacks\u001b[39m=\u001b[39;49m[lgb\u001b[39m.\u001b[39;49mearly_stopping(stopping_rounds\u001b[39m=\u001b[39;49m\u001b[39m100\u001b[39;49m),lgb\u001b[39m.\u001b[39;49mlog_evaluation(period\u001b[39m=\u001b[39;49m\u001b[39m100\u001b[39;49m)])\n\u001b[1;32m     30\u001b[0m preds \u001b[39m=\u001b[39m gbm\u001b[39m.\u001b[39mpredict(X_valid)\n\u001b[1;32m     31\u001b[0m \u001b[39m# Calculating log loss for the validation set\u001b[39;00m\n",
      "File \u001b[0;32m/Library/Frameworks/Python.framework/Versions/3.10/lib/python3.10/site-packages/lightgbm/engine.py:276\u001b[0m, in \u001b[0;36mtrain\u001b[0;34m(params, train_set, num_boost_round, valid_sets, valid_names, feval, init_model, feature_name, categorical_feature, keep_training_booster, callbacks)\u001b[0m\n\u001b[1;32m    268\u001b[0m \u001b[39mfor\u001b[39;00m cb \u001b[39min\u001b[39;00m callbacks_before_iter:\n\u001b[1;32m    269\u001b[0m     cb(callback\u001b[39m.\u001b[39mCallbackEnv(model\u001b[39m=\u001b[39mbooster,\n\u001b[1;32m    270\u001b[0m                             params\u001b[39m=\u001b[39mparams,\n\u001b[1;32m    271\u001b[0m                             iteration\u001b[39m=\u001b[39mi,\n\u001b[1;32m    272\u001b[0m                             begin_iteration\u001b[39m=\u001b[39minit_iteration,\n\u001b[1;32m    273\u001b[0m                             end_iteration\u001b[39m=\u001b[39minit_iteration \u001b[39m+\u001b[39m num_boost_round,\n\u001b[1;32m    274\u001b[0m                             evaluation_result_list\u001b[39m=\u001b[39m\u001b[39mNone\u001b[39;00m))\n\u001b[0;32m--> 276\u001b[0m booster\u001b[39m.\u001b[39;49mupdate(fobj\u001b[39m=\u001b[39;49mfobj)\n\u001b[1;32m    278\u001b[0m evaluation_result_list: List[_LGBM_BoosterEvalMethodResultType] \u001b[39m=\u001b[39m []\n\u001b[1;32m    279\u001b[0m \u001b[39m# check evaluation result.\u001b[39;00m\n",
      "File \u001b[0;32m/Library/Frameworks/Python.framework/Versions/3.10/lib/python3.10/site-packages/lightgbm/basic.py:3891\u001b[0m, in \u001b[0;36mBooster.update\u001b[0;34m(self, train_set, fobj)\u001b[0m\n\u001b[1;32m   3889\u001b[0m \u001b[39mif\u001b[39;00m \u001b[39mself\u001b[39m\u001b[39m.\u001b[39m__set_objective_to_none:\n\u001b[1;32m   3890\u001b[0m     \u001b[39mraise\u001b[39;00m LightGBMError(\u001b[39m'\u001b[39m\u001b[39mCannot update due to null objective function.\u001b[39m\u001b[39m'\u001b[39m)\n\u001b[0;32m-> 3891\u001b[0m _safe_call(_LIB\u001b[39m.\u001b[39;49mLGBM_BoosterUpdateOneIter(\n\u001b[1;32m   3892\u001b[0m     \u001b[39mself\u001b[39;49m\u001b[39m.\u001b[39;49m_handle,\n\u001b[1;32m   3893\u001b[0m     ctypes\u001b[39m.\u001b[39;49mbyref(is_finished)))\n\u001b[1;32m   3894\u001b[0m \u001b[39mself\u001b[39m\u001b[39m.\u001b[39m__is_predicted_cur_iter \u001b[39m=\u001b[39m [\u001b[39mFalse\u001b[39;00m \u001b[39mfor\u001b[39;00m _ \u001b[39min\u001b[39;00m \u001b[39mrange\u001b[39m(\u001b[39mself\u001b[39m\u001b[39m.\u001b[39m__num_dataset)]\n\u001b[1;32m   3895\u001b[0m \u001b[39mreturn\u001b[39;00m is_finished\u001b[39m.\u001b[39mvalue \u001b[39m==\u001b[39m \u001b[39m1\u001b[39m\n",
      "\u001b[0;31mKeyboardInterrupt\u001b[0m: "
     ]
    }
   ],
   "source": [
    "import optuna\n",
    "import lightgbm as lgb\n",
    "from sklearn.metrics import log_loss\n",
    "from sklearn.model_selection import train_test_split\n",
    "\n",
    "# Assuming X_resampled and y_resampled are your features and target after resampling\n",
    "\n",
    "def objective(trial):\n",
    "    # Splitting data for hyperparameter optimization\n",
    "    X_train, X_valid, y_train, y_valid = train_test_split(X_resampled, y_resampled, test_size=0.2, random_state=42)\n",
    "\n",
    "    # Defining hyperparameter search space\n",
    "    param = {\n",
    "        'objective': 'binary',\n",
    "        'metric': 'binary_logloss',\n",
    "        'verbosity': -1,\n",
    "        'boosting_type': 'dart',\n",
    "        'learning_rate': 0.01,\n",
    "        'num_leaves': trial.suggest_int('num_leaves', 20, 300),\n",
    "        'max_depth': -1,\n",
    "        'min_child_samples': 30,\n",
    "        'subsample': 0.8,\n",
    "        'colsample_bytree': 0.8,\n",
    "        'reg_alpha': 0.1,\n",
    "        'reg_lambda': 0.1,\n",
    "    }\n",
    "\n",
    "    # Training the model with the trial's parameters\n",
    "    gbm = lgb.train(param, lgb.Dataset(X_train, label=y_train),num_boost_round=2000, valid_sets=[lgb.Dataset(X_valid, label=y_valid)],callbacks=[lgb.early_stopping(stopping_rounds=100),lgb.log_evaluation(period=100)])\n",
    "    preds = gbm.predict(X_valid)\n",
    "    # Calculating log loss for the validation set\n",
    "    loss = log_loss(y_valid, preds)\n",
    "    return loss\n",
    "\n",
    "study = optuna.create_study(direction='minimize')\n",
    "study.optimize(objective, n_trials=100) # You can adjust the number of trials\n",
    "\n",
    "print('Number of finished trials:', len(study.trials))\n",
    "print('Best trial:', study.best_trial.params)\n"
   ]
  },
  {
   "cell_type": "code",
   "execution_count": null,
   "metadata": {},
   "outputs": [],
   "source": [
    "#'num_leaves': 300"
   ]
  }
 ],
 "metadata": {
  "kernelspec": {
   "display_name": "Python 3",
   "language": "python",
   "name": "python3"
  },
  "language_info": {
   "codemirror_mode": {
    "name": "ipython",
    "version": 3
   },
   "file_extension": ".py",
   "mimetype": "text/x-python",
   "name": "python",
   "nbconvert_exporter": "python",
   "pygments_lexer": "ipython3",
   "version": "3.10.1"
  },
  "orig_nbformat": 4
 },
 "nbformat": 4,
 "nbformat_minor": 2
}
