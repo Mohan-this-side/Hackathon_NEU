{
 "cells": [
  {
   "cell_type": "code",
   "execution_count": 1,
   "metadata": {},
   "outputs": [],
   "source": [
    "import pandas as pd\n",
    "import seaborn as sns\n",
    "\n",
    "train = pd.read_csv(\"/Users/mohan/NEU/Projects_and_Hackathon/stay-or-stray/train.csv\")\n",
    "test = pd.read_csv(\"/Users/mohan/NEU/Projects_and_Hackathon/stay-or-stray/test.csv\")\n",
    "\n",
    "log_train = pd.read_csv(\"/Users/mohan/NEU/Projects_and_Hackathon/stay-or-stray/log_train.csv\")\n",
    "log_test = pd.read_csv(\"/Users/mohan/NEU/Projects_and_Hackathon/stay-or-stray/log_test.csv\")"
   ]
  },
  {
   "cell_type": "code",
   "execution_count": 2,
   "metadata": {},
   "outputs": [],
   "source": [
    "log_train_df= log_train\n",
    "train_df = train"
   ]
  },
  {
   "cell_type": "code",
   "execution_count": null,
   "metadata": {},
   "outputs": [],
   "source": []
  },
  {
   "cell_type": "code",
   "execution_count": 3,
   "metadata": {},
   "outputs": [
    {
     "name": "stderr",
     "output_type": "stream",
     "text": [
      "/Library/Frameworks/Python.framework/Versions/3.10/lib/python3.10/site-packages/pandas/core/reshape/merge.py:1203: RuntimeWarning: invalid value encountered in cast\n",
      "  if not (lk == lk.astype(rk.dtype))[~np.isnan(lk)].all():\n"
     ]
    }
   ],
   "source": [
    "log_train_df['time'] = pd.to_datetime(log_train_df['time'])\n",
    "\n",
    "# Extract features\n",
    "log_train_df['hour'] = log_train_df['time'].dt.hour\n",
    "log_train_df['day_of_week'] = log_train_df['time'].dt.dayofweek\n",
    "log_train_df['day'] = log_train_df['time'].dt.day\n",
    "\n",
    "# Count of events per ID\n",
    "event_count = log_train_df.groupby('ID')['event'].count().reset_index(name='event_count')\n",
    "\n",
    "# Count of unique sources per ID\n",
    "unique_sources = log_train_df.groupby('ID')['source'].nunique().reset_index(name='unique_sources')\n",
    "\n",
    "# Merge these features back to the original dataset on ID\n",
    "train_df_enriched = train_df.merge(event_count, on='ID', how='left')\n",
    "train_df_enriched = train_df_enriched.merge(unique_sources, on='ID', how='left')\n",
    "\n",
    "\n",
    "# Time difference features (e.g., average time between events for each ID)\n",
    "log_train_df['time_diff'] = log_train_df.sort_values(['ID', 'time']).groupby('ID')['time'].diff().dt.total_seconds()\n",
    "avg_time_diff = log_train_df.groupby('ID')['time_diff'].mean().reset_index(name='avg_time_diff')\n",
    "\n",
    "# Fill missing values for IDs that did not have event data\n",
    "\n",
    "\n",
    "train_df_enriched = train_df_enriched.merge(avg_time_diff, on='ID', how='left')\n",
    "\n",
    "# Fill missing values for IDs that did not have event data\n",
    "train_df_enriched.fillna({'event_count': 0, 'unique_sources': 0, \"avg_time_diff\":0}, inplace=True)\n"
   ]
  },
  {
   "cell_type": "code",
   "execution_count": 4,
   "metadata": {},
   "outputs": [],
   "source": [
    "import pandas as pd\n",
    "import numpy as np\n",
    "import lightgbm as lgb\n",
    "from sklearn.model_selection import train_test_split\n",
    "from sklearn.impute import SimpleImputer\n",
    "from sklearn.metrics import accuracy_score, confusion_matrix, classification_report\n",
    "from imblearn.over_sampling import ADASYN\n",
    "\n",
    "# Assuming 'train_df_enriched' is your dataset\n",
    "train_clean = train_df_enriched.dropna(subset=['label'])\n",
    "\n",
    "X = train_clean.drop(['label', 'ID'], axis=1)\n",
    "y = train_clean['label']\n",
    "\n",
    "# Initialize the SimpleImputer with 'median' strategy\n",
    "imputer = SimpleImputer(strategy='median')\n",
    "X_imputed = imputer.fit_transform(X)\n",
    "X_imputed_df = pd.DataFrame(X_imputed, columns=X.columns)\n",
    "\n",
    "# Resampling\n",
    "X_resampled, y_resampled = ADASYN().fit_resample(X_imputed_df, y)"
   ]
  },
  {
   "cell_type": "code",
   "execution_count": 5,
   "metadata": {},
   "outputs": [
    {
     "name": "stderr",
     "output_type": "stream",
     "text": [
      "/Library/Frameworks/Python.framework/Versions/3.10/lib/python3.10/site-packages/tqdm/auto.py:21: TqdmWarning: IProgress not found. Please update jupyter and ipywidgets. See https://ipywidgets.readthedocs.io/en/stable/user_install.html\n",
      "  from .autonotebook import tqdm as notebook_tqdm\n",
      "[I 2024-03-27 01:48:36,064] A new study created in memory with name: no-name-8f60d174-b0b9-4524-a4b0-0e9b5cabf22f\n",
      "/Library/Frameworks/Python.framework/Versions/3.10/lib/python3.10/site-packages/lightgbm/callback.py:325: UserWarning: Early stopping is not available in dart mode\n",
      "  _log_warning('Early stopping is not available in dart mode')\n"
     ]
    },
    {
     "name": "stdout",
     "output_type": "stream",
     "text": [
      "[100]\tvalid_0's binary_logloss: 0.335667\n",
      "[200]\tvalid_0's binary_logloss: 0.280333\n",
      "[300]\tvalid_0's binary_logloss: 0.246941\n",
      "[400]\tvalid_0's binary_logloss: 0.231763\n",
      "[500]\tvalid_0's binary_logloss: 0.223697\n",
      "[600]\tvalid_0's binary_logloss: 0.222165\n",
      "[700]\tvalid_0's binary_logloss: 0.218853\n",
      "[800]\tvalid_0's binary_logloss: 0.216973\n",
      "[900]\tvalid_0's binary_logloss: 0.214479\n",
      "[1000]\tvalid_0's binary_logloss: 0.213249\n",
      "[1100]\tvalid_0's binary_logloss: 0.211853\n",
      "[1200]\tvalid_0's binary_logloss: 0.21112\n",
      "[1300]\tvalid_0's binary_logloss: 0.210283\n",
      "[1400]\tvalid_0's binary_logloss: 0.208945\n",
      "[1500]\tvalid_0's binary_logloss: 0.20885\n",
      "[1600]\tvalid_0's binary_logloss: 0.207951\n",
      "[1700]\tvalid_0's binary_logloss: 0.207119\n",
      "[1800]\tvalid_0's binary_logloss: 0.206782\n",
      "[1900]\tvalid_0's binary_logloss: 0.206486\n",
      "[2000]\tvalid_0's binary_logloss: 0.206219\n"
     ]
    },
    {
     "name": "stderr",
     "output_type": "stream",
     "text": [
      "[I 2024-03-27 01:51:19,302] Trial 0 finished with value: 0.20621899492911272 and parameters: {'learning_rate': 0.06685776629525489, 'num_leaves': 299, 'max_depth': 3, 'min_child_samples': 93, 'subsample': 0.7718732198456097, 'colsample_bytree': 0.8532674879658929, 'reg_alpha': 0.02429488276859937, 'reg_lambda': 0.9048692747379464}. Best is trial 0 with value: 0.20621899492911272.\n",
      "/Library/Frameworks/Python.framework/Versions/3.10/lib/python3.10/site-packages/lightgbm/callback.py:325: UserWarning: Early stopping is not available in dart mode\n",
      "  _log_warning('Early stopping is not available in dart mode')\n"
     ]
    },
    {
     "name": "stdout",
     "output_type": "stream",
     "text": [
      "[100]\tvalid_0's binary_logloss: 0.207867\n",
      "[200]\tvalid_0's binary_logloss: 0.208798\n",
      "[300]\tvalid_0's binary_logloss: 0.213575\n",
      "[400]\tvalid_0's binary_logloss: 0.219681\n",
      "[500]\tvalid_0's binary_logloss: 0.228652\n",
      "[600]\tvalid_0's binary_logloss: 0.231728\n",
      "[700]\tvalid_0's binary_logloss: 0.238729\n",
      "[800]\tvalid_0's binary_logloss: 0.243222\n",
      "[900]\tvalid_0's binary_logloss: 0.250087\n",
      "[1000]\tvalid_0's binary_logloss: 0.253633\n",
      "[1100]\tvalid_0's binary_logloss: 0.258698\n",
      "[1200]\tvalid_0's binary_logloss: 0.260601\n",
      "[1300]\tvalid_0's binary_logloss: 0.262949\n",
      "[1400]\tvalid_0's binary_logloss: 0.267912\n",
      "[1500]\tvalid_0's binary_logloss: 0.267881\n",
      "[1600]\tvalid_0's binary_logloss: 0.271585\n",
      "[1700]\tvalid_0's binary_logloss: 0.27503\n",
      "[1800]\tvalid_0's binary_logloss: 0.27609\n",
      "[1900]\tvalid_0's binary_logloss: 0.278249\n",
      "[2000]\tvalid_0's binary_logloss: 0.278805\n"
     ]
    },
    {
     "name": "stderr",
     "output_type": "stream",
     "text": [
      "[I 2024-03-27 02:17:36,690] Trial 1 finished with value: 0.27880451935491135 and parameters: {'learning_rate': 0.25473287735401173, 'num_leaves': 195, 'max_depth': 15, 'min_child_samples': 82, 'subsample': 0.9166312279129013, 'colsample_bytree': 0.599540417630458, 'reg_alpha': 0.6515401056720604, 'reg_lambda': 0.7640898815659358}. Best is trial 0 with value: 0.20621899492911272.\n",
      "/Library/Frameworks/Python.framework/Versions/3.10/lib/python3.10/site-packages/lightgbm/callback.py:325: UserWarning: Early stopping is not available in dart mode\n",
      "  _log_warning('Early stopping is not available in dart mode')\n"
     ]
    },
    {
     "name": "stdout",
     "output_type": "stream",
     "text": [
      "[100]\tvalid_0's binary_logloss: 0.210324\n",
      "[200]\tvalid_0's binary_logloss: 0.206383\n",
      "[300]\tvalid_0's binary_logloss: 0.206165\n",
      "[400]\tvalid_0's binary_logloss: 0.208247\n",
      "[500]\tvalid_0's binary_logloss: 0.211976\n",
      "[600]\tvalid_0's binary_logloss: 0.213524\n",
      "[700]\tvalid_0's binary_logloss: 0.217059\n",
      "[800]\tvalid_0's binary_logloss: 0.21865\n",
      "[900]\tvalid_0's binary_logloss: 0.222178\n",
      "[1000]\tvalid_0's binary_logloss: 0.224628\n",
      "[1100]\tvalid_0's binary_logloss: 0.229063\n",
      "[1200]\tvalid_0's binary_logloss: 0.231663\n",
      "[1300]\tvalid_0's binary_logloss: 0.235508\n",
      "[1400]\tvalid_0's binary_logloss: 0.240174\n",
      "[1500]\tvalid_0's binary_logloss: 0.242343\n",
      "[1600]\tvalid_0's binary_logloss: 0.247491\n",
      "[1700]\tvalid_0's binary_logloss: 0.252613\n",
      "[1800]\tvalid_0's binary_logloss: 0.257511\n",
      "[1900]\tvalid_0's binary_logloss: 0.262459\n",
      "[2000]\tvalid_0's binary_logloss: 0.266929\n"
     ]
    },
    {
     "name": "stderr",
     "output_type": "stream",
     "text": [
      "[I 2024-03-27 02:32:07,306] Trial 2 finished with value: 0.2669293984334697 and parameters: {'learning_rate': 0.18848258851080013, 'num_leaves': 112, 'max_depth': 9, 'min_child_samples': 25, 'subsample': 0.4460018066571349, 'colsample_bytree': 0.9928961685992675, 'reg_alpha': 0.05981218299670654, 'reg_lambda': 0.2711772587477408}. Best is trial 0 with value: 0.20621899492911272.\n",
      "/Library/Frameworks/Python.framework/Versions/3.10/lib/python3.10/site-packages/lightgbm/callback.py:325: UserWarning: Early stopping is not available in dart mode\n",
      "  _log_warning('Early stopping is not available in dart mode')\n"
     ]
    },
    {
     "name": "stdout",
     "output_type": "stream",
     "text": [
      "[100]\tvalid_0's binary_logloss: 0.209929\n",
      "[200]\tvalid_0's binary_logloss: 0.206\n",
      "[300]\tvalid_0's binary_logloss: 0.206229\n",
      "[400]\tvalid_0's binary_logloss: 0.205882\n",
      "[500]\tvalid_0's binary_logloss: 0.206812\n",
      "[600]\tvalid_0's binary_logloss: 0.206811\n",
      "[700]\tvalid_0's binary_logloss: 0.208139\n",
      "[800]\tvalid_0's binary_logloss: 0.208869\n",
      "[900]\tvalid_0's binary_logloss: 0.209662\n",
      "[1000]\tvalid_0's binary_logloss: 0.210996\n",
      "[1100]\tvalid_0's binary_logloss: 0.212892\n",
      "[1200]\tvalid_0's binary_logloss: 0.213411\n",
      "[1300]\tvalid_0's binary_logloss: 0.214668\n",
      "[1400]\tvalid_0's binary_logloss: 0.217178\n",
      "[1500]\tvalid_0's binary_logloss: 0.217929\n",
      "[1600]\tvalid_0's binary_logloss: 0.220101\n",
      "[1700]\tvalid_0's binary_logloss: 0.223197\n",
      "[1800]\tvalid_0's binary_logloss: 0.224982\n",
      "[1900]\tvalid_0's binary_logloss: 0.227044\n",
      "[2000]\tvalid_0's binary_logloss: 0.229262\n"
     ]
    },
    {
     "name": "stderr",
     "output_type": "stream",
     "text": [
      "[I 2024-03-27 02:42:14,589] Trial 3 finished with value: 0.22926177432567021 and parameters: {'learning_rate': 0.17742027003647387, 'num_leaves': 69, 'max_depth': 13, 'min_child_samples': 47, 'subsample': 0.8364504297810842, 'colsample_bytree': 0.8135432413826964, 'reg_alpha': 0.04165348322015483, 'reg_lambda': 0.32460789646915}. Best is trial 0 with value: 0.20621899492911272.\n",
      "/Library/Frameworks/Python.framework/Versions/3.10/lib/python3.10/site-packages/lightgbm/callback.py:325: UserWarning: Early stopping is not available in dart mode\n",
      "  _log_warning('Early stopping is not available in dart mode')\n"
     ]
    },
    {
     "name": "stdout",
     "output_type": "stream",
     "text": [
      "[100]\tvalid_0's binary_logloss: 0.216463\n",
      "[200]\tvalid_0's binary_logloss: 0.207054\n",
      "[300]\tvalid_0's binary_logloss: 0.205067\n",
      "[400]\tvalid_0's binary_logloss: 0.206107\n",
      "[500]\tvalid_0's binary_logloss: 0.20867\n",
      "[600]\tvalid_0's binary_logloss: 0.20971\n",
      "[700]\tvalid_0's binary_logloss: 0.213849\n",
      "[800]\tvalid_0's binary_logloss: 0.216322\n",
      "[900]\tvalid_0's binary_logloss: 0.220434\n",
      "[1000]\tvalid_0's binary_logloss: 0.223658\n",
      "[1100]\tvalid_0's binary_logloss: 0.227596\n",
      "[1200]\tvalid_0's binary_logloss: 0.230129\n",
      "[1300]\tvalid_0's binary_logloss: 0.23429\n",
      "[1400]\tvalid_0's binary_logloss: 0.240545\n",
      "[1500]\tvalid_0's binary_logloss: 0.24256\n",
      "[1600]\tvalid_0's binary_logloss: 0.247619\n",
      "[1700]\tvalid_0's binary_logloss: 0.25296\n",
      "[1800]\tvalid_0's binary_logloss: 0.25713\n",
      "[1900]\tvalid_0's binary_logloss: 0.261762\n",
      "[2000]\tvalid_0's binary_logloss: 0.264757\n"
     ]
    },
    {
     "name": "stderr",
     "output_type": "stream",
     "text": [
      "[I 2024-03-27 03:04:32,371] Trial 4 finished with value: 0.2647569527995728 and parameters: {'learning_rate': 0.1111986421271894, 'num_leaves': 250, 'max_depth': 11, 'min_child_samples': 63, 'subsample': 0.895757578756627, 'colsample_bytree': 0.968348112287639, 'reg_alpha': 0.26325515176604264, 'reg_lambda': 0.0737755938311262}. Best is trial 0 with value: 0.20621899492911272.\n",
      "/Library/Frameworks/Python.framework/Versions/3.10/lib/python3.10/site-packages/lightgbm/callback.py:325: UserWarning: Early stopping is not available in dart mode\n",
      "  _log_warning('Early stopping is not available in dart mode')\n"
     ]
    },
    {
     "name": "stdout",
     "output_type": "stream",
     "text": [
      "[100]\tvalid_0's binary_logloss: 0.209511\n",
      "[200]\tvalid_0's binary_logloss: 0.208506\n",
      "[300]\tvalid_0's binary_logloss: 0.213429\n",
      "[400]\tvalid_0's binary_logloss: 0.217636\n",
      "[500]\tvalid_0's binary_logloss: 0.224809\n",
      "[600]\tvalid_0's binary_logloss: 0.226979\n",
      "[700]\tvalid_0's binary_logloss: 0.235128\n",
      "[800]\tvalid_0's binary_logloss: 0.239196\n",
      "[900]\tvalid_0's binary_logloss: 0.246568\n",
      "[1000]\tvalid_0's binary_logloss: 0.251847\n",
      "[1100]\tvalid_0's binary_logloss: 0.258963\n",
      "[1200]\tvalid_0's binary_logloss: 0.262054\n",
      "[1300]\tvalid_0's binary_logloss: 0.266335\n",
      "[1400]\tvalid_0's binary_logloss: 0.272685\n",
      "[1500]\tvalid_0's binary_logloss: 0.272941\n",
      "[1600]\tvalid_0's binary_logloss: 0.278126\n",
      "[1700]\tvalid_0's binary_logloss: 0.282046\n",
      "[1800]\tvalid_0's binary_logloss: 0.284287\n",
      "[1900]\tvalid_0's binary_logloss: 0.286892\n",
      "[2000]\tvalid_0's binary_logloss: 0.288489\n"
     ]
    },
    {
     "name": "stderr",
     "output_type": "stream",
     "text": [
      "[I 2024-03-27 03:26:27,211] Trial 5 finished with value: 0.2884891655887126 and parameters: {'learning_rate': 0.27302899381738444, 'num_leaves': 149, 'max_depth': 16, 'min_child_samples': 46, 'subsample': 0.6382414064823242, 'colsample_bytree': 0.8886012007419728, 'reg_alpha': 0.48001120912855555, 'reg_lambda': 0.8816595000701042}. Best is trial 0 with value: 0.20621899492911272.\n",
      "/Library/Frameworks/Python.framework/Versions/3.10/lib/python3.10/site-packages/lightgbm/callback.py:325: UserWarning: Early stopping is not available in dart mode\n",
      "  _log_warning('Early stopping is not available in dart mode')\n"
     ]
    },
    {
     "name": "stdout",
     "output_type": "stream",
     "text": [
      "[100]\tvalid_0's binary_logloss: 0.23922\n",
      "[200]\tvalid_0's binary_logloss: 0.217736\n",
      "[300]\tvalid_0's binary_logloss: 0.209261\n",
      "[400]\tvalid_0's binary_logloss: 0.205947\n",
      "[500]\tvalid_0's binary_logloss: 0.204276\n",
      "[600]\tvalid_0's binary_logloss: 0.204701\n",
      "[700]\tvalid_0's binary_logloss: 0.204171\n",
      "[800]\tvalid_0's binary_logloss: 0.203724\n",
      "[900]\tvalid_0's binary_logloss: 0.203366\n",
      "[1000]\tvalid_0's binary_logloss: 0.203405\n",
      "[1100]\tvalid_0's binary_logloss: 0.203929\n",
      "[1200]\tvalid_0's binary_logloss: 0.204082\n",
      "[1300]\tvalid_0's binary_logloss: 0.204232\n",
      "[1400]\tvalid_0's binary_logloss: 0.204423\n",
      "[1500]\tvalid_0's binary_logloss: 0.20462\n",
      "[1600]\tvalid_0's binary_logloss: 0.204838\n",
      "[1700]\tvalid_0's binary_logloss: 0.205409\n",
      "[1800]\tvalid_0's binary_logloss: 0.205607\n",
      "[1900]\tvalid_0's binary_logloss: 0.20608\n",
      "[2000]\tvalid_0's binary_logloss: 0.206271\n"
     ]
    },
    {
     "name": "stderr",
     "output_type": "stream",
     "text": [
      "[I 2024-03-27 03:33:55,408] Trial 6 finished with value: 0.2062705180112083 and parameters: {'learning_rate': 0.09998780968785975, 'num_leaves': 180, 'max_depth': 6, 'min_child_samples': 77, 'subsample': 0.6206489804416939, 'colsample_bytree': 0.6601549374494227, 'reg_alpha': 0.3195134214099399, 'reg_lambda': 0.7738086490326556}. Best is trial 0 with value: 0.20621899492911272.\n",
      "/Library/Frameworks/Python.framework/Versions/3.10/lib/python3.10/site-packages/lightgbm/callback.py:325: UserWarning: Early stopping is not available in dart mode\n",
      "  _log_warning('Early stopping is not available in dart mode')\n"
     ]
    },
    {
     "name": "stdout",
     "output_type": "stream",
     "text": [
      "[100]\tvalid_0's binary_logloss: 0.210432\n",
      "[200]\tvalid_0's binary_logloss: 0.205686\n",
      "[300]\tvalid_0's binary_logloss: 0.206383\n",
      "[400]\tvalid_0's binary_logloss: 0.208685\n",
      "[500]\tvalid_0's binary_logloss: 0.212648\n",
      "[600]\tvalid_0's binary_logloss: 0.215161\n",
      "[700]\tvalid_0's binary_logloss: 0.219791\n",
      "[800]\tvalid_0's binary_logloss: 0.22395\n",
      "[900]\tvalid_0's binary_logloss: 0.230762\n",
      "[1000]\tvalid_0's binary_logloss: 0.235428\n",
      "[1100]\tvalid_0's binary_logloss: 0.241742\n",
      "[1200]\tvalid_0's binary_logloss: 0.245561\n",
      "[1300]\tvalid_0's binary_logloss: 0.251152\n",
      "[1400]\tvalid_0's binary_logloss: 0.258646\n",
      "[1500]\tvalid_0's binary_logloss: 0.2619\n",
      "[1600]\tvalid_0's binary_logloss: 0.268197\n",
      "[1700]\tvalid_0's binary_logloss: 0.2743\n",
      "[1800]\tvalid_0's binary_logloss: 0.279396\n",
      "[1900]\tvalid_0's binary_logloss: 0.283066\n",
      "[2000]\tvalid_0's binary_logloss: 0.286823\n"
     ]
    },
    {
     "name": "stderr",
     "output_type": "stream",
     "text": [
      "[I 2024-03-27 03:50:31,019] Trial 7 finished with value: 0.28682275576249733 and parameters: {'learning_rate': 0.17834384641507472, 'num_leaves': 274, 'max_depth': 9, 'min_child_samples': 62, 'subsample': 0.6123355274011855, 'colsample_bytree': 0.8685416722452531, 'reg_alpha': 0.1593513206144107, 'reg_lambda': 0.0955940447020045}. Best is trial 0 with value: 0.20621899492911272.\n",
      "/Library/Frameworks/Python.framework/Versions/3.10/lib/python3.10/site-packages/lightgbm/callback.py:325: UserWarning: Early stopping is not available in dart mode\n",
      "  _log_warning('Early stopping is not available in dart mode')\n"
     ]
    },
    {
     "name": "stdout",
     "output_type": "stream",
     "text": [
      "[100]\tvalid_0's binary_logloss: 0.211864\n",
      "[200]\tvalid_0's binary_logloss: 0.20559\n",
      "[300]\tvalid_0's binary_logloss: 0.203971\n",
      "[400]\tvalid_0's binary_logloss: 0.203837\n",
      "[500]\tvalid_0's binary_logloss: 0.204758\n",
      "[600]\tvalid_0's binary_logloss: 0.20527\n",
      "[700]\tvalid_0's binary_logloss: 0.206857\n",
      "[800]\tvalid_0's binary_logloss: 0.207893\n",
      "[900]\tvalid_0's binary_logloss: 0.208822\n",
      "[1000]\tvalid_0's binary_logloss: 0.210102\n",
      "[1100]\tvalid_0's binary_logloss: 0.211316\n",
      "[1200]\tvalid_0's binary_logloss: 0.212414\n",
      "[1300]\tvalid_0's binary_logloss: 0.213425\n",
      "[1400]\tvalid_0's binary_logloss: 0.216664\n",
      "[1500]\tvalid_0's binary_logloss: 0.217703\n",
      "[1600]\tvalid_0's binary_logloss: 0.220174\n",
      "[1700]\tvalid_0's binary_logloss: 0.223014\n",
      "[1800]\tvalid_0's binary_logloss: 0.225034\n",
      "[1900]\tvalid_0's binary_logloss: 0.227886\n",
      "[2000]\tvalid_0's binary_logloss: 0.229987\n"
     ]
    },
    {
     "name": "stderr",
     "output_type": "stream",
     "text": [
      "[I 2024-03-27 04:08:24,304] Trial 8 finished with value: 0.22998669645750033 and parameters: {'learning_rate': 0.13117516264112275, 'num_leaves': 124, 'max_depth': 17, 'min_child_samples': 86, 'subsample': 0.7877735673178918, 'colsample_bytree': 0.46639144951418643, 'reg_alpha': 0.21495398728102832, 'reg_lambda': 0.9146639003832003}. Best is trial 0 with value: 0.20621899492911272.\n",
      "/Library/Frameworks/Python.framework/Versions/3.10/lib/python3.10/site-packages/lightgbm/callback.py:325: UserWarning: Early stopping is not available in dart mode\n",
      "  _log_warning('Early stopping is not available in dart mode')\n"
     ]
    },
    {
     "name": "stdout",
     "output_type": "stream",
     "text": [
      "[100]\tvalid_0's binary_logloss: 0.225387\n",
      "[200]\tvalid_0's binary_logloss: 0.211345\n",
      "[300]\tvalid_0's binary_logloss: 0.206667\n",
      "[400]\tvalid_0's binary_logloss: 0.204562\n",
      "[500]\tvalid_0's binary_logloss: 0.204277\n",
      "[600]\tvalid_0's binary_logloss: 0.204525\n",
      "[700]\tvalid_0's binary_logloss: 0.204753\n",
      "[800]\tvalid_0's binary_logloss: 0.205162\n",
      "[900]\tvalid_0's binary_logloss: 0.20601\n",
      "[1000]\tvalid_0's binary_logloss: 0.206582\n",
      "[1100]\tvalid_0's binary_logloss: 0.207011\n",
      "[1200]\tvalid_0's binary_logloss: 0.207562\n",
      "[1300]\tvalid_0's binary_logloss: 0.20837\n",
      "[1400]\tvalid_0's binary_logloss: 0.209462\n",
      "[1500]\tvalid_0's binary_logloss: 0.209739\n",
      "[1600]\tvalid_0's binary_logloss: 0.210542\n",
      "[1700]\tvalid_0's binary_logloss: 0.211648\n",
      "[1800]\tvalid_0's binary_logloss: 0.212144\n",
      "[1900]\tvalid_0's binary_logloss: 0.213045\n",
      "[2000]\tvalid_0's binary_logloss: 0.213924\n"
     ]
    },
    {
     "name": "stderr",
     "output_type": "stream",
     "text": [
      "[I 2024-03-27 04:18:47,872] Trial 9 finished with value: 0.21392404226487027 and parameters: {'learning_rate': 0.11381617654654029, 'num_leaves': 78, 'max_depth': 7, 'min_child_samples': 23, 'subsample': 0.9187527334107699, 'colsample_bytree': 0.960047737582573, 'reg_alpha': 0.8800785872807061, 'reg_lambda': 0.3599739512666119}. Best is trial 0 with value: 0.20621899492911272.\n",
      "/Library/Frameworks/Python.framework/Versions/3.10/lib/python3.10/site-packages/lightgbm/callback.py:325: UserWarning: Early stopping is not available in dart mode\n",
      "  _log_warning('Early stopping is not available in dart mode')\n"
     ]
    },
    {
     "name": "stdout",
     "output_type": "stream",
     "text": [
      "[100]\tvalid_0's binary_logloss: 0.562187\n",
      "[200]\tvalid_0's binary_logloss: 0.512962\n",
      "[300]\tvalid_0's binary_logloss: 0.46344\n",
      "[400]\tvalid_0's binary_logloss: 0.424234\n",
      "[500]\tvalid_0's binary_logloss: 0.388719\n",
      "[600]\tvalid_0's binary_logloss: 0.374681\n",
      "[700]\tvalid_0's binary_logloss: 0.354647\n",
      "[800]\tvalid_0's binary_logloss: 0.341469\n",
      "[900]\tvalid_0's binary_logloss: 0.325127\n",
      "[1000]\tvalid_0's binary_logloss: 0.314841\n",
      "[1100]\tvalid_0's binary_logloss: 0.30407\n",
      "[1200]\tvalid_0's binary_logloss: 0.298674\n",
      "[1300]\tvalid_0's binary_logloss: 0.291339\n",
      "[1400]\tvalid_0's binary_logloss: 0.28118\n",
      "[1500]\tvalid_0's binary_logloss: 0.277525\n",
      "[1600]\tvalid_0's binary_logloss: 0.270855\n",
      "[1700]\tvalid_0's binary_logloss: 0.264058\n",
      "[1800]\tvalid_0's binary_logloss: 0.259476\n",
      "[1900]\tvalid_0's binary_logloss: 0.254609\n",
      "[2000]\tvalid_0's binary_logloss: 0.251691\n"
     ]
    },
    {
     "name": "stderr",
     "output_type": "stream",
     "text": [
      "[I 2024-03-27 04:21:51,324] Trial 10 finished with value: 0.2516912784417876 and parameters: {'learning_rate': 0.011354741778240626, 'num_leaves': 292, 'max_depth': 3, 'min_child_samples': 100, 'subsample': 0.44634230210337983, 'colsample_bytree': 0.7671993124415271, 'reg_alpha': 0.994471881193778, 'reg_lambda': 0.5949482656885934}. Best is trial 0 with value: 0.20621899492911272.\n",
      "/Library/Frameworks/Python.framework/Versions/3.10/lib/python3.10/site-packages/lightgbm/callback.py:325: UserWarning: Early stopping is not available in dart mode\n",
      "  _log_warning('Early stopping is not available in dart mode')\n"
     ]
    },
    {
     "name": "stdout",
     "output_type": "stream",
     "text": [
      "[100]\tvalid_0's binary_logloss: 0.398594\n",
      "[200]\tvalid_0's binary_logloss: 0.335192\n",
      "[300]\tvalid_0's binary_logloss: 0.289386\n",
      "[400]\tvalid_0's binary_logloss: 0.260905\n",
      "[500]\tvalid_0's binary_logloss: 0.241634\n",
      "[600]\tvalid_0's binary_logloss: 0.23735\n",
      "[700]\tvalid_0's binary_logloss: 0.230317\n",
      "[800]\tvalid_0's binary_logloss: 0.227211\n",
      "[900]\tvalid_0's binary_logloss: 0.222953\n",
      "[1000]\tvalid_0's binary_logloss: 0.220904\n",
      "[1100]\tvalid_0's binary_logloss: 0.21786\n",
      "[1200]\tvalid_0's binary_logloss: 0.217537\n",
      "[1300]\tvalid_0's binary_logloss: 0.216104\n",
      "[1400]\tvalid_0's binary_logloss: 0.213862\n",
      "[1500]\tvalid_0's binary_logloss: 0.21366\n",
      "[1600]\tvalid_0's binary_logloss: 0.21206\n",
      "[1700]\tvalid_0's binary_logloss: 0.210851\n",
      "[1800]\tvalid_0's binary_logloss: 0.210401\n",
      "[1900]\tvalid_0's binary_logloss: 0.209523\n",
      "[2000]\tvalid_0's binary_logloss: 0.209065\n"
     ]
    },
    {
     "name": "stderr",
     "output_type": "stream",
     "text": [
      "[I 2024-03-27 04:26:14,243] Trial 11 finished with value: 0.20906499645536947 and parameters: {'learning_rate': 0.03223094927436972, 'num_leaves': 214, 'max_depth': 4, 'min_child_samples': 81, 'subsample': 0.7056843499884327, 'colsample_bytree': 0.6489570809023841, 'reg_alpha': 0.411696623198278, 'reg_lambda': 0.676454069549168}. Best is trial 0 with value: 0.20621899492911272.\n",
      "/Library/Frameworks/Python.framework/Versions/3.10/lib/python3.10/site-packages/lightgbm/callback.py:325: UserWarning: Early stopping is not available in dart mode\n",
      "  _log_warning('Early stopping is not available in dart mode')\n"
     ]
    },
    {
     "name": "stdout",
     "output_type": "stream",
     "text": [
      "[100]\tvalid_0's binary_logloss: 0.280738\n",
      "[200]\tvalid_0's binary_logloss: 0.241718\n",
      "[300]\tvalid_0's binary_logloss: 0.221356\n",
      "[400]\tvalid_0's binary_logloss: 0.213761\n",
      "[500]\tvalid_0's binary_logloss: 0.209119\n",
      "[600]\tvalid_0's binary_logloss: 0.20921\n"
     ]
    },
    {
     "name": "stderr",
     "output_type": "stream",
     "text": [
      "[W 2024-03-27 04:27:52,969] Trial 12 failed with parameters: {'learning_rate': 0.06007314176405205, 'num_leaves': 191, 'max_depth': 6, 'min_child_samples': 99, 'subsample': 0.553990603483238, 'colsample_bytree': 0.7122279280052972, 'reg_alpha': 0.34316841386802444, 'reg_lambda': 0.9982545064015643} because of the following error: KeyboardInterrupt().\n",
      "Traceback (most recent call last):\n",
      "  File \"/Library/Frameworks/Python.framework/Versions/3.10/lib/python3.10/site-packages/optuna/study/_optimize.py\", line 196, in _run_trial\n",
      "    value_or_values = func(trial)\n",
      "  File \"/var/folders/w5/7276v8b14pj5_4lrc2r9xkvr0000gn/T/ipykernel_7437/1606589854.py\", line 29, in objective\n",
      "    gbm = lgb.train(param, lgb.Dataset(X_train, label=y_train),num_boost_round=2000, valid_sets=[lgb.Dataset(X_valid, label=y_valid)],callbacks=[lgb.early_stopping(stopping_rounds=100),lgb.log_evaluation(period=100)])\n",
      "  File \"/Library/Frameworks/Python.framework/Versions/3.10/lib/python3.10/site-packages/lightgbm/engine.py\", line 276, in train\n",
      "    booster.update(fobj=fobj)\n",
      "  File \"/Library/Frameworks/Python.framework/Versions/3.10/lib/python3.10/site-packages/lightgbm/basic.py\", line 3891, in update\n",
      "    _safe_call(_LIB.LGBM_BoosterUpdateOneIter(\n",
      "KeyboardInterrupt\n",
      "[W 2024-03-27 04:27:52,976] Trial 12 failed with value None.\n"
     ]
    },
    {
     "ename": "KeyboardInterrupt",
     "evalue": "",
     "output_type": "error",
     "traceback": [
      "\u001b[0;31m---------------------------------------------------------------------------\u001b[0m",
      "\u001b[0;31mKeyboardInterrupt\u001b[0m                         Traceback (most recent call last)",
      "Cell \u001b[0;32mIn[5], line 36\u001b[0m\n\u001b[1;32m     33\u001b[0m     \u001b[39mreturn\u001b[39;00m loss\n\u001b[1;32m     35\u001b[0m study \u001b[39m=\u001b[39m optuna\u001b[39m.\u001b[39mcreate_study(direction\u001b[39m=\u001b[39m\u001b[39m'\u001b[39m\u001b[39mminimize\u001b[39m\u001b[39m'\u001b[39m)\n\u001b[0;32m---> 36\u001b[0m study\u001b[39m.\u001b[39;49moptimize(objective, n_trials\u001b[39m=\u001b[39;49m\u001b[39m100\u001b[39;49m) \u001b[39m# You can adjust the number of trials\u001b[39;00m\n\u001b[1;32m     38\u001b[0m \u001b[39mprint\u001b[39m(\u001b[39m'\u001b[39m\u001b[39mNumber of finished trials:\u001b[39m\u001b[39m'\u001b[39m, \u001b[39mlen\u001b[39m(study\u001b[39m.\u001b[39mtrials))\n\u001b[1;32m     39\u001b[0m \u001b[39mprint\u001b[39m(\u001b[39m'\u001b[39m\u001b[39mBest trial:\u001b[39m\u001b[39m'\u001b[39m, study\u001b[39m.\u001b[39mbest_trial\u001b[39m.\u001b[39mparams)\n",
      "File \u001b[0;32m/Library/Frameworks/Python.framework/Versions/3.10/lib/python3.10/site-packages/optuna/study/study.py:451\u001b[0m, in \u001b[0;36mStudy.optimize\u001b[0;34m(self, func, n_trials, timeout, n_jobs, catch, callbacks, gc_after_trial, show_progress_bar)\u001b[0m\n\u001b[1;32m    348\u001b[0m \u001b[39mdef\u001b[39;00m \u001b[39moptimize\u001b[39m(\n\u001b[1;32m    349\u001b[0m     \u001b[39mself\u001b[39m,\n\u001b[1;32m    350\u001b[0m     func: ObjectiveFuncType,\n\u001b[0;32m   (...)\u001b[0m\n\u001b[1;32m    357\u001b[0m     show_progress_bar: \u001b[39mbool\u001b[39m \u001b[39m=\u001b[39m \u001b[39mFalse\u001b[39;00m,\n\u001b[1;32m    358\u001b[0m ) \u001b[39m-\u001b[39m\u001b[39m>\u001b[39m \u001b[39mNone\u001b[39;00m:\n\u001b[1;32m    359\u001b[0m \u001b[39m    \u001b[39m\u001b[39m\"\"\"Optimize an objective function.\u001b[39;00m\n\u001b[1;32m    360\u001b[0m \n\u001b[1;32m    361\u001b[0m \u001b[39m    Optimization is done by choosing a suitable set of hyperparameter values from a given\u001b[39;00m\n\u001b[0;32m   (...)\u001b[0m\n\u001b[1;32m    449\u001b[0m \u001b[39m            If nested invocation of this method occurs.\u001b[39;00m\n\u001b[1;32m    450\u001b[0m \u001b[39m    \"\"\"\u001b[39;00m\n\u001b[0;32m--> 451\u001b[0m     _optimize(\n\u001b[1;32m    452\u001b[0m         study\u001b[39m=\u001b[39;49m\u001b[39mself\u001b[39;49m,\n\u001b[1;32m    453\u001b[0m         func\u001b[39m=\u001b[39;49mfunc,\n\u001b[1;32m    454\u001b[0m         n_trials\u001b[39m=\u001b[39;49mn_trials,\n\u001b[1;32m    455\u001b[0m         timeout\u001b[39m=\u001b[39;49mtimeout,\n\u001b[1;32m    456\u001b[0m         n_jobs\u001b[39m=\u001b[39;49mn_jobs,\n\u001b[1;32m    457\u001b[0m         catch\u001b[39m=\u001b[39;49m\u001b[39mtuple\u001b[39;49m(catch) \u001b[39mif\u001b[39;49;00m \u001b[39misinstance\u001b[39;49m(catch, Iterable) \u001b[39melse\u001b[39;49;00m (catch,),\n\u001b[1;32m    458\u001b[0m         callbacks\u001b[39m=\u001b[39;49mcallbacks,\n\u001b[1;32m    459\u001b[0m         gc_after_trial\u001b[39m=\u001b[39;49mgc_after_trial,\n\u001b[1;32m    460\u001b[0m         show_progress_bar\u001b[39m=\u001b[39;49mshow_progress_bar,\n\u001b[1;32m    461\u001b[0m     )\n",
      "File \u001b[0;32m/Library/Frameworks/Python.framework/Versions/3.10/lib/python3.10/site-packages/optuna/study/_optimize.py:62\u001b[0m, in \u001b[0;36m_optimize\u001b[0;34m(study, func, n_trials, timeout, n_jobs, catch, callbacks, gc_after_trial, show_progress_bar)\u001b[0m\n\u001b[1;32m     60\u001b[0m \u001b[39mtry\u001b[39;00m:\n\u001b[1;32m     61\u001b[0m     \u001b[39mif\u001b[39;00m n_jobs \u001b[39m==\u001b[39m \u001b[39m1\u001b[39m:\n\u001b[0;32m---> 62\u001b[0m         _optimize_sequential(\n\u001b[1;32m     63\u001b[0m             study,\n\u001b[1;32m     64\u001b[0m             func,\n\u001b[1;32m     65\u001b[0m             n_trials,\n\u001b[1;32m     66\u001b[0m             timeout,\n\u001b[1;32m     67\u001b[0m             catch,\n\u001b[1;32m     68\u001b[0m             callbacks,\n\u001b[1;32m     69\u001b[0m             gc_after_trial,\n\u001b[1;32m     70\u001b[0m             reseed_sampler_rng\u001b[39m=\u001b[39;49m\u001b[39mFalse\u001b[39;49;00m,\n\u001b[1;32m     71\u001b[0m             time_start\u001b[39m=\u001b[39;49m\u001b[39mNone\u001b[39;49;00m,\n\u001b[1;32m     72\u001b[0m             progress_bar\u001b[39m=\u001b[39;49mprogress_bar,\n\u001b[1;32m     73\u001b[0m         )\n\u001b[1;32m     74\u001b[0m     \u001b[39melse\u001b[39;00m:\n\u001b[1;32m     75\u001b[0m         \u001b[39mif\u001b[39;00m n_jobs \u001b[39m==\u001b[39m \u001b[39m-\u001b[39m\u001b[39m1\u001b[39m:\n",
      "File \u001b[0;32m/Library/Frameworks/Python.framework/Versions/3.10/lib/python3.10/site-packages/optuna/study/_optimize.py:159\u001b[0m, in \u001b[0;36m_optimize_sequential\u001b[0;34m(study, func, n_trials, timeout, catch, callbacks, gc_after_trial, reseed_sampler_rng, time_start, progress_bar)\u001b[0m\n\u001b[1;32m    156\u001b[0m         \u001b[39mbreak\u001b[39;00m\n\u001b[1;32m    158\u001b[0m \u001b[39mtry\u001b[39;00m:\n\u001b[0;32m--> 159\u001b[0m     frozen_trial \u001b[39m=\u001b[39m _run_trial(study, func, catch)\n\u001b[1;32m    160\u001b[0m \u001b[39mfinally\u001b[39;00m:\n\u001b[1;32m    161\u001b[0m     \u001b[39m# The following line mitigates memory problems that can be occurred in some\u001b[39;00m\n\u001b[1;32m    162\u001b[0m     \u001b[39m# environments (e.g., services that use computing containers such as GitHub Actions).\u001b[39;00m\n\u001b[1;32m    163\u001b[0m     \u001b[39m# Please refer to the following PR for further details:\u001b[39;00m\n\u001b[1;32m    164\u001b[0m     \u001b[39m# https://github.com/optuna/optuna/pull/325.\u001b[39;00m\n\u001b[1;32m    165\u001b[0m     \u001b[39mif\u001b[39;00m gc_after_trial:\n",
      "File \u001b[0;32m/Library/Frameworks/Python.framework/Versions/3.10/lib/python3.10/site-packages/optuna/study/_optimize.py:247\u001b[0m, in \u001b[0;36m_run_trial\u001b[0;34m(study, func, catch)\u001b[0m\n\u001b[1;32m    240\u001b[0m         \u001b[39massert\u001b[39;00m \u001b[39mFalse\u001b[39;00m, \u001b[39m\"\u001b[39m\u001b[39mShould not reach.\u001b[39m\u001b[39m\"\u001b[39m\n\u001b[1;32m    242\u001b[0m \u001b[39mif\u001b[39;00m (\n\u001b[1;32m    243\u001b[0m     frozen_trial\u001b[39m.\u001b[39mstate \u001b[39m==\u001b[39m TrialState\u001b[39m.\u001b[39mFAIL\n\u001b[1;32m    244\u001b[0m     \u001b[39mand\u001b[39;00m func_err \u001b[39mis\u001b[39;00m \u001b[39mnot\u001b[39;00m \u001b[39mNone\u001b[39;00m\n\u001b[1;32m    245\u001b[0m     \u001b[39mand\u001b[39;00m \u001b[39mnot\u001b[39;00m \u001b[39misinstance\u001b[39m(func_err, catch)\n\u001b[1;32m    246\u001b[0m ):\n\u001b[0;32m--> 247\u001b[0m     \u001b[39mraise\u001b[39;00m func_err\n\u001b[1;32m    248\u001b[0m \u001b[39mreturn\u001b[39;00m frozen_trial\n",
      "File \u001b[0;32m/Library/Frameworks/Python.framework/Versions/3.10/lib/python3.10/site-packages/optuna/study/_optimize.py:196\u001b[0m, in \u001b[0;36m_run_trial\u001b[0;34m(study, func, catch)\u001b[0m\n\u001b[1;32m    194\u001b[0m \u001b[39mwith\u001b[39;00m get_heartbeat_thread(trial\u001b[39m.\u001b[39m_trial_id, study\u001b[39m.\u001b[39m_storage):\n\u001b[1;32m    195\u001b[0m     \u001b[39mtry\u001b[39;00m:\n\u001b[0;32m--> 196\u001b[0m         value_or_values \u001b[39m=\u001b[39m func(trial)\n\u001b[1;32m    197\u001b[0m     \u001b[39mexcept\u001b[39;00m exceptions\u001b[39m.\u001b[39mTrialPruned \u001b[39mas\u001b[39;00m e:\n\u001b[1;32m    198\u001b[0m         \u001b[39m# TODO(mamu): Handle multi-objective cases.\u001b[39;00m\n\u001b[1;32m    199\u001b[0m         state \u001b[39m=\u001b[39m TrialState\u001b[39m.\u001b[39mPRUNED\n",
      "Cell \u001b[0;32mIn[5], line 29\u001b[0m, in \u001b[0;36mobjective\u001b[0;34m(trial)\u001b[0m\n\u001b[1;32m     13\u001b[0m param \u001b[39m=\u001b[39m {\n\u001b[1;32m     14\u001b[0m     \u001b[39m'\u001b[39m\u001b[39mobjective\u001b[39m\u001b[39m'\u001b[39m: \u001b[39m'\u001b[39m\u001b[39mbinary\u001b[39m\u001b[39m'\u001b[39m,\n\u001b[1;32m     15\u001b[0m     \u001b[39m'\u001b[39m\u001b[39mmetric\u001b[39m\u001b[39m'\u001b[39m: \u001b[39m'\u001b[39m\u001b[39mbinary_logloss\u001b[39m\u001b[39m'\u001b[39m,\n\u001b[0;32m   (...)\u001b[0m\n\u001b[1;32m     25\u001b[0m     \u001b[39m'\u001b[39m\u001b[39mreg_lambda\u001b[39m\u001b[39m'\u001b[39m: trial\u001b[39m.\u001b[39msuggest_float(\u001b[39m'\u001b[39m\u001b[39mreg_lambda\u001b[39m\u001b[39m'\u001b[39m, \u001b[39m0.0\u001b[39m, \u001b[39m1.0\u001b[39m),\n\u001b[1;32m     26\u001b[0m }\n\u001b[1;32m     28\u001b[0m \u001b[39m# Training the model with the trial's parameters\u001b[39;00m\n\u001b[0;32m---> 29\u001b[0m gbm \u001b[39m=\u001b[39m lgb\u001b[39m.\u001b[39;49mtrain(param, lgb\u001b[39m.\u001b[39;49mDataset(X_train, label\u001b[39m=\u001b[39;49my_train),num_boost_round\u001b[39m=\u001b[39;49m\u001b[39m2000\u001b[39;49m, valid_sets\u001b[39m=\u001b[39;49m[lgb\u001b[39m.\u001b[39;49mDataset(X_valid, label\u001b[39m=\u001b[39;49my_valid)],callbacks\u001b[39m=\u001b[39;49m[lgb\u001b[39m.\u001b[39;49mearly_stopping(stopping_rounds\u001b[39m=\u001b[39;49m\u001b[39m100\u001b[39;49m),lgb\u001b[39m.\u001b[39;49mlog_evaluation(period\u001b[39m=\u001b[39;49m\u001b[39m100\u001b[39;49m)])\n\u001b[1;32m     30\u001b[0m preds \u001b[39m=\u001b[39m gbm\u001b[39m.\u001b[39mpredict(X_valid)\n\u001b[1;32m     31\u001b[0m \u001b[39m# Calculating log loss for the validation set\u001b[39;00m\n",
      "File \u001b[0;32m/Library/Frameworks/Python.framework/Versions/3.10/lib/python3.10/site-packages/lightgbm/engine.py:276\u001b[0m, in \u001b[0;36mtrain\u001b[0;34m(params, train_set, num_boost_round, valid_sets, valid_names, feval, init_model, feature_name, categorical_feature, keep_training_booster, callbacks)\u001b[0m\n\u001b[1;32m    268\u001b[0m \u001b[39mfor\u001b[39;00m cb \u001b[39min\u001b[39;00m callbacks_before_iter:\n\u001b[1;32m    269\u001b[0m     cb(callback\u001b[39m.\u001b[39mCallbackEnv(model\u001b[39m=\u001b[39mbooster,\n\u001b[1;32m    270\u001b[0m                             params\u001b[39m=\u001b[39mparams,\n\u001b[1;32m    271\u001b[0m                             iteration\u001b[39m=\u001b[39mi,\n\u001b[1;32m    272\u001b[0m                             begin_iteration\u001b[39m=\u001b[39minit_iteration,\n\u001b[1;32m    273\u001b[0m                             end_iteration\u001b[39m=\u001b[39minit_iteration \u001b[39m+\u001b[39m num_boost_round,\n\u001b[1;32m    274\u001b[0m                             evaluation_result_list\u001b[39m=\u001b[39m\u001b[39mNone\u001b[39;00m))\n\u001b[0;32m--> 276\u001b[0m booster\u001b[39m.\u001b[39;49mupdate(fobj\u001b[39m=\u001b[39;49mfobj)\n\u001b[1;32m    278\u001b[0m evaluation_result_list: List[_LGBM_BoosterEvalMethodResultType] \u001b[39m=\u001b[39m []\n\u001b[1;32m    279\u001b[0m \u001b[39m# check evaluation result.\u001b[39;00m\n",
      "File \u001b[0;32m/Library/Frameworks/Python.framework/Versions/3.10/lib/python3.10/site-packages/lightgbm/basic.py:3891\u001b[0m, in \u001b[0;36mBooster.update\u001b[0;34m(self, train_set, fobj)\u001b[0m\n\u001b[1;32m   3889\u001b[0m \u001b[39mif\u001b[39;00m \u001b[39mself\u001b[39m\u001b[39m.\u001b[39m__set_objective_to_none:\n\u001b[1;32m   3890\u001b[0m     \u001b[39mraise\u001b[39;00m LightGBMError(\u001b[39m'\u001b[39m\u001b[39mCannot update due to null objective function.\u001b[39m\u001b[39m'\u001b[39m)\n\u001b[0;32m-> 3891\u001b[0m _safe_call(_LIB\u001b[39m.\u001b[39;49mLGBM_BoosterUpdateOneIter(\n\u001b[1;32m   3892\u001b[0m     \u001b[39mself\u001b[39;49m\u001b[39m.\u001b[39;49m_handle,\n\u001b[1;32m   3893\u001b[0m     ctypes\u001b[39m.\u001b[39;49mbyref(is_finished)))\n\u001b[1;32m   3894\u001b[0m \u001b[39mself\u001b[39m\u001b[39m.\u001b[39m__is_predicted_cur_iter \u001b[39m=\u001b[39m [\u001b[39mFalse\u001b[39;00m \u001b[39mfor\u001b[39;00m _ \u001b[39min\u001b[39;00m \u001b[39mrange\u001b[39m(\u001b[39mself\u001b[39m\u001b[39m.\u001b[39m__num_dataset)]\n\u001b[1;32m   3895\u001b[0m \u001b[39mreturn\u001b[39;00m is_finished\u001b[39m.\u001b[39mvalue \u001b[39m==\u001b[39m \u001b[39m1\u001b[39m\n",
      "\u001b[0;31mKeyboardInterrupt\u001b[0m: "
     ]
    }
   ],
   "source": [
    "import optuna\n",
    "import lightgbm as lgb\n",
    "from sklearn.metrics import log_loss\n",
    "from sklearn.model_selection import train_test_split\n",
    "\n",
    "# Assuming X_resampled and y_resampled are your features and target after resampling\n",
    "\n",
    "def objective(trial):\n",
    "    # Splitting data for hyperparameter optimization\n",
    "    X_train, X_valid, y_train, y_valid = train_test_split(X_resampled, y_resampled, test_size=0.2, random_state=42)\n",
    "\n",
    "    # Defining hyperparameter search space\n",
    "    param = {\n",
    "        'objective': 'binary',\n",
    "        'metric': 'binary_logloss',\n",
    "        'verbosity': -1,\n",
    "        'boosting_type': 'dart',\n",
    "        'learning_rate': trial.suggest_float('learning_rate', 0.01, 0.3),\n",
    "        'num_leaves': trial.suggest_int('num_leaves', 20, 300),\n",
    "        'max_depth': trial.suggest_int('max_depth', 3, 20),\n",
    "        'min_child_samples': trial.suggest_int('min_child_samples', 20, 100),\n",
    "        'subsample': trial.suggest_float('subsample', 0.4, 1.0),\n",
    "        'colsample_bytree': trial.suggest_float('colsample_bytree', 0.4, 1.0),\n",
    "        'reg_alpha': trial.suggest_float('reg_alpha', 0.0, 1.0),\n",
    "        'reg_lambda': trial.suggest_float('reg_lambda', 0.0, 1.0),\n",
    "    }\n",
    "\n",
    "    # Training the model with the trial's parameters\n",
    "    gbm = lgb.train(param, lgb.Dataset(X_train, label=y_train),num_boost_round=2000, valid_sets=[lgb.Dataset(X_valid, label=y_valid)],callbacks=[lgb.early_stopping(stopping_rounds=100),lgb.log_evaluation(period=100)])\n",
    "    preds = gbm.predict(X_valid)\n",
    "    # Calculating log loss for the validation set\n",
    "    loss = log_loss(y_valid, preds)\n",
    "    return loss\n",
    "\n",
    "study = optuna.create_study(direction='minimize')\n",
    "study.optimize(objective, n_trials=100) # You can adjust the number of trials\n",
    "\n",
    "print('Number of finished trials:', len(study.trials))\n",
    "print('Best trial:', study.best_trial.params)\n"
   ]
  },
  {
   "cell_type": "code",
   "execution_count": null,
   "metadata": {},
   "outputs": [],
   "source": []
  }
 ],
 "metadata": {
  "kernelspec": {
   "display_name": "Python 3",
   "language": "python",
   "name": "python3"
  },
  "language_info": {
   "codemirror_mode": {
    "name": "ipython",
    "version": 3
   },
   "file_extension": ".py",
   "mimetype": "text/x-python",
   "name": "python",
   "nbconvert_exporter": "python",
   "pygments_lexer": "ipython3",
   "version": "3.10.1"
  },
  "orig_nbformat": 4
 },
 "nbformat": 4,
 "nbformat_minor": 2
}
